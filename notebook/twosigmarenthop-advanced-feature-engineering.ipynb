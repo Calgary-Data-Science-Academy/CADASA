{
 "cells": [
  {
   "cell_type": "code",
   "execution_count": 1,
   "metadata": {},
   "outputs": [],
   "source": [
    "import numpy as np\n",
    "from scipy import sparse\n",
    "import pandas as pd\n",
    "import xgboost as xgb\n",
    "import re\n",
    "import string\n",
    "import time\n",
    "import seaborn as sns\n",
    "import itertools\n",
    "\n",
    "from sklearn import preprocessing, pipeline, metrics, model_selection\n",
    "from sklearn.feature_extraction.text import TfidfVectorizer, CountVectorizer\n",
    "\n",
    "import matplotlib.pyplot as plt\n",
    "\n",
    "%matplotlib inline \n"
   ]
  },
  {
   "cell_type": "code",
   "execution_count": 2,
   "metadata": {},
   "outputs": [],
   "source": [
    "train_data = pd.read_json('../input/two-sigma-connect-rental-listing-inquiries/train.json.zip', convert_dates=['created'])\n",
    "test_data = pd.read_json('../input/two-sigma-connect-rental-listing-inquiries/test.json.zip', convert_dates=['created'])"
   ]
  },
  {
   "cell_type": "code",
   "execution_count": 3,
   "metadata": {},
   "outputs": [],
   "source": [
    "train_size = train_data.shape[0]"
   ]
  },
  {
   "cell_type": "markdown",
   "metadata": {},
   "source": [
    "## Create target variables\n",
    "\n",
    "We need to convert the raw target variable into numeric"
   ]
  },
  {
   "cell_type": "code",
   "execution_count": 4,
   "metadata": {},
   "outputs": [],
   "source": [
    "train_data['target'] = train_data['interest_level'].apply(lambda x: 0 if x=='low' else 1 if x=='medium' else 2)\n",
    "train_data['low'] = train_data['interest_level'].apply(lambda x: 1 if x=='low' else 0)\n",
    "train_data['medium'] = train_data['interest_level'].apply(lambda x: 1 if x=='medium' else 0)\n",
    "train_data['high'] = train_data['interest_level'].apply(lambda x: 1 if x=='high' else 0)"
   ]
  },
  {
   "cell_type": "markdown",
   "metadata": {},
   "source": [
    "## Merge training and testing data\n",
    "So we don't have to perform transformations twice"
   ]
  },
  {
   "cell_type": "code",
   "execution_count": 5,
   "metadata": {},
   "outputs": [
    {
     "name": "stderr",
     "output_type": "stream",
     "text": [
      "/opt/conda/lib/python3.6/site-packages/ipykernel_launcher.py:1: FutureWarning: Sorting because non-concatenation axis is not aligned. A future version\n",
      "of pandas will change to not sort by default.\n",
      "\n",
      "To accept the future behavior, pass 'sort=False'.\n",
      "\n",
      "To retain the current behavior and silence the warning, pass 'sort=True'.\n",
      "\n",
      "  \"\"\"Entry point for launching an IPython kernel.\n"
     ]
    }
   ],
   "source": [
    "full_data=pd.concat([train_data,test_data])"
   ]
  },
  {
   "cell_type": "markdown",
   "metadata": {},
   "source": [
    "## Group variables"
   ]
  },
  {
   "cell_type": "code",
   "execution_count": 6,
   "metadata": {},
   "outputs": [],
   "source": [
    "num_vars = ['bathrooms','bedrooms','latitude','longitude','price']\n",
    "cat_vars = ['building_id','manager_id','display_address','street_address']\n",
    "text_vars = ['description','features']\n",
    "date_var = 'created'\n",
    "image_var = 'photos'\n",
    "id_var = 'listing_id'"
   ]
  },
  {
   "cell_type": "markdown",
   "metadata": {},
   "source": [
    "## Date/time features"
   ]
  },
  {
   "cell_type": "code",
   "execution_count": 7,
   "metadata": {},
   "outputs": [],
   "source": [
    "full_data['created_datetime'] = pd.to_datetime(full_data['created'], format=\"%Y-%m-%d %H:%M:%S\")\n",
    "full_data['created_year']=full_data['created_datetime'].apply(lambda x:x.year) ## low variant\n",
    "full_data['created_datetime'] = pd.to_datetime(full_data['created'], format=\"%Y-%m-%d %H:%M:%S\")\n",
    "full_data['created_month']=full_data['created_datetime'].apply(lambda x:x.month)\n",
    "full_data['created_day']=full_data['created_datetime'].apply(lambda x:x.day)\n",
    "full_data['created_dayofweek']=full_data['created_datetime'].apply(lambda x:x.dayofweek)\n",
    "full_data['created_dayofyear']=full_data['created_datetime'].apply(lambda x:x.dayofyear)\n",
    "full_data['created_weekofyear']=full_data['created_datetime'].apply(lambda x:x.weekofyear)\n",
    "full_data['created_hour']=full_data['created_datetime'].apply(lambda x:x.hour)\n",
    "full_data['created_epoch']=full_data['created_datetime'].apply(lambda x:x.value//10**9)\n",
    "\n",
    "date_num_vars = ['created_month','created_dayofweek','created_dayofyear'\n",
    "                 ,'created_weekofyear','created_hour','created_epoch']"
   ]
  },
  {
   "cell_type": "markdown",
   "metadata": {},
   "source": [
    "## Geolocation features"
   ]
  },
  {
   "cell_type": "code",
   "execution_count": 8,
   "metadata": {},
   "outputs": [],
   "source": [
    "full_data[\"geo_area_50\"] = \\\n",
    "    full_data[['latitude', 'longitude']]\\\n",
    "    .apply(lambda x:(int(x[0]*50)%50)*50+(int(-x[1]*50)%50),axis=1)                                         \n",
    "                         \n",
    "\n",
    "full_data[\"geo_area_100\"] = \\\n",
    "    full_data[['latitude', 'longitude']]\\\n",
    "    .apply(lambda x:(int(x[0]*100)%100)*100+(int(-x[1]*100)%100),axis=1)                                         \n",
    "  \n",
    "\n",
    "full_data[\"geo_area_200\"] = \\\n",
    "    full_data[['latitude', 'longitude']]\\\n",
    "    .apply(lambda x:(int(x[0]*200)%200)*200+(int(-x[1]*200)%200),axis=1)                                         \n",
    "\n",
    "import math\n",
    "\n",
    "# Financial district\n",
    "lat=40.705628\n",
    "lon=-74.010278\n",
    "full_data['distance_to_fi'] = full_data[['latitude', 'longitude']].apply(lambda x:math.sqrt((x[0]-lat)**2+(x[1]-lon)**2), axis=1)\n",
    "\n",
    "# Central park\n",
    "lat = 40.785091\n",
    "lon = -73.968285\n",
    "full_data['distance_to_cp'] = full_data[['latitude', 'longitude']].apply(lambda x:math.sqrt((x[0]-lat)**2+(x[1]-lon)**2), axis=1)\n",
    "\n",
    "\n",
    "geo_cat_vars = ['geo_area_50', 'geo_area_100', 'geo_area_200']\n",
    "\n",
    "geo_num_vars = ['distance_to_fi', 'distance_to_cp']"
   ]
  },
  {
   "cell_type": "markdown",
   "metadata": {},
   "source": [
    "## Numeric features: basic engineering"
   ]
  },
  {
   "cell_type": "code",
   "execution_count": 9,
   "metadata": {},
   "outputs": [],
   "source": [
    "full_data['rooms'] = full_data['bedrooms'] + full_data['bathrooms'] \n",
    "full_data['num_of_photos'] = full_data['photos'].apply(lambda x:len(x))\n",
    "full_data['num_of_features'] = full_data['features'].apply(lambda x:len(x))\n",
    "full_data['len_of_desc'] = full_data['description'].apply(lambda x:len(x))\n",
    "full_data['words_of_desc'] = full_data['description'].apply(lambda x:len(re.sub('['+string.punctuation+']', '', x).split()))\n",
    "\n",
    "\n",
    "full_data['nums_of_desc'] = full_data['description']\\\n",
    "        .apply(lambda x:re.sub('['+string.punctuation+']', '', x).split())\\\n",
    "        .apply(lambda x: len([s for s in x if s.isdigit()]))\n",
    "        \n",
    "full_data['has_phone'] = full_data['description'].apply(lambda x:re.sub('['+string.punctuation+']', '', x).split())\\\n",
    "        .apply(lambda x: [s for s in x if s.isdigit()])\\\n",
    "        .apply(lambda x: len([s for s in x if len(str(s))==10]))\\\n",
    "        .apply(lambda x: 1 if x>0 else 0)\n",
    "full_data['has_email'] = full_data['description'].apply(lambda x: 1 if '@renthop.com' in x else 0)\n",
    "\n",
    "full_data['building_id_is_zero'] = full_data['building_id'].apply(lambda x:1 if x=='0' else 0)\n",
    "\n",
    "additional_num_vars = ['rooms','num_of_photos','num_of_features','len_of_desc',\n",
    "                    'words_of_desc','has_phone','has_email','building_id_is_zero']"
   ]
  },
  {
   "cell_type": "markdown",
   "metadata": {},
   "source": [
    "## Numeric-Numeric interactions"
   ]
  },
  {
   "cell_type": "code",
   "execution_count": 10,
   "metadata": {},
   "outputs": [],
   "source": [
    "full_data['avg_word_len'] = full_data[['len_of_desc','words_of_desc']]\\\n",
    "                                    .apply(lambda x: x[0]/x[1] if x[1]!=0 else 0, axis=1)\n",
    "    \n",
    "full_data['price_per_room'] = full_data[['price','rooms']].apply(lambda x: x[0]/x[1] if x[1]!=0 else 0, axis=1)\n",
    "full_data['price_per_bedroom'] = full_data[['price','bedrooms']].apply(lambda x: x[0]/x[1] if x[1]!=0 else 0, axis=1)\n",
    "full_data['price_per_bathroom'] = full_data[['price','bathrooms']].apply(lambda x: x[0]/x[1] if x[1]!=0 else 0, axis=1)\n",
    "full_data['price_per_feature'] = full_data[['price','num_of_features']].apply(lambda x: x[0]/x[1] if x[1]!=0 else 0, axis=1)\n",
    "full_data['price_per_photo'] = full_data[['price','num_of_photos']].apply(lambda x: x[0]/x[1] if x[1]!=0 else 0, axis=1)\n",
    "full_data['price_per_word'] = full_data[['price','words_of_desc']].apply(lambda x: x[0]/x[1] if x[1]!=0 else 0, axis=1)\n",
    "full_data['price_by_desc_len'] = full_data[['price','len_of_desc']].apply(lambda x: x[0]/x[1] if x[1]!=0 else 0, axis=1)\n",
    "\n",
    "\n",
    "full_data['photos_per_room'] = full_data[['num_of_photos','rooms']].apply(lambda x: x[0]/x[1] if x[1]!=0 else 0, axis=1)\n",
    "full_data['photos_per_bedroom'] = full_data[['num_of_photos','bedrooms']].apply(lambda x: x[0]/x[1] if x[1]!=0 else 0, axis=1)\n",
    "full_data['photos_per_bathroom'] = full_data[['num_of_photos','bathrooms']].apply(lambda x: x[0]/x[1] if x[1]!=0 else 0, axis=1)\n",
    "\n",
    "full_data['desc_len_per_room'] = full_data[['len_of_desc','rooms']].apply(lambda x: x[0]/x[1] if x[1]!=0 else 0, axis=1)\n",
    "full_data['desc_len_per_bedroom'] = full_data[['len_of_desc','bedrooms']].apply(lambda x: x[0]/x[1] if x[1]!=0 else 0, axis=1)\n",
    "full_data['desc_len_per_bathroom'] = full_data[['len_of_desc','bathrooms']].apply(lambda x: x[0]/x[1] if x[1]!=0 else 0, axis=1)\n",
    "full_data['desc_len_per_word'] = full_data[['len_of_desc','words_of_desc']].apply(lambda x: x[0]/x[1] if x[1]!=0 else 0, axis=1)\n",
    "full_data['desc_len_per_numeric'] = full_data[['len_of_desc','nums_of_desc']].apply(lambda x: x[0]/x[1] if x[1]!=0 else 0, axis=1)\n",
    "\n",
    "full_data['features_per_room'] = full_data[['num_of_features','rooms']].apply(lambda x: x[0]/x[1] if x[1]!=0 else 0, axis=1)\n",
    "full_data['features_per_bedroom'] = full_data[['num_of_features','bedrooms']].apply(lambda x: x[0]/x[1] if x[1]!=0 else 0, axis=1)\n",
    "full_data['features_per_bathroom'] = full_data[['num_of_features','bathrooms']].apply(lambda x: x[0]/x[1] if x[1]!=0 else 0, axis=1)\n",
    "full_data['features_per_photo'] = full_data[['num_of_features','num_of_photos']].apply(lambda x: x[0]/x[1] if x[1]!=0 else 0, axis=1)\n",
    "full_data['features_per_word'] = full_data[['num_of_features','words_of_desc']].apply(lambda x: x[0]/x[1] if x[1]!=0 else 0, axis=1)\n",
    "full_data['features_by_desc_len'] = full_data[['num_of_features','len_of_desc']].apply(lambda x: x[0]/x[1] if x[1]!=0 else 0, axis=1)\n",
    "\n",
    "\n",
    "interactive_num_vars = ['avg_word_len','price_per_room','price_per_bedroom','price_per_bathroom',\n",
    "                        'price_per_feature','price_per_photo','price_per_word','price_by_desc_len',\n",
    "                        'photos_per_room','photos_per_bedroom','photos_per_bathroom',\n",
    "                        'desc_len_per_room','desc_len_per_bedroom','desc_len_per_bathroom','desc_len_per_word',\n",
    "                        'desc_len_per_numeric','features_per_room','features_per_bedroom','features_per_bathroom',\n",
    "                        'features_per_photo','features_per_word','features_by_desc_len']"
   ]
  },
  {
   "cell_type": "markdown",
   "metadata": {},
   "source": [
    "## Count features"
   ]
  },
  {
   "cell_type": "code",
   "execution_count": 11,
   "metadata": {},
   "outputs": [
    {
     "name": "stdout",
     "output_type": "stream",
     "text": [
      "CPU times: user 17.5 s, sys: 2.91 ms, total: 17.5 s\n",
      "Wall time: 17.5 s\n"
     ]
    }
   ],
   "source": [
    "%%time\n",
    "display=full_data[\"display_address\"].value_counts()\n",
    "manager_id=full_data[\"manager_id\"].value_counts()\n",
    "building_id=full_data[\"building_id\"].value_counts()\n",
    "street=full_data[\"street_address\"].value_counts()\n",
    "bedrooms=full_data[\"bedrooms\"].value_counts()\n",
    "bathrooms=full_data[\"bathrooms\"].value_counts()\n",
    "created_dayofyear=full_data[\"created_dayofyear\"].value_counts()\n",
    "created_weekofyear=full_data[\"created_weekofyear\"].value_counts()\n",
    "\n",
    "full_data[\"display_count\"]=full_data[\"display_address\"].apply(lambda x:display[x])\n",
    "full_data[\"manager_count\"]=full_data[\"manager_id\"].apply(lambda x:manager_id[x])  \n",
    "full_data[\"building_count\"]=full_data[\"building_id\"].apply(lambda x:building_id[x])\n",
    "full_data[\"street_count\"]=full_data[\"street_address\"].apply(lambda x:street[x])\n",
    "full_data[\"bedrooms_count\"]=full_data[\"bedrooms\"].apply(lambda x:bedrooms[x])\n",
    "full_data[\"bathrooms_count\"]=full_data[\"bathrooms\"].apply(lambda x:bathrooms[x])\n",
    "full_data[\"created_dayofyear_count\"]=full_data[\"created_dayofyear\"].\\\n",
    "    apply(lambda x:created_dayofyear[x])\n",
    "full_data[\"created_weekofyear_count\"]=full_data[\"created_weekofyear\"].\\\n",
    "    apply(lambda x:created_weekofyear[x])\n",
    "\n",
    "count_vars = ['manager_count', 'building_count', 'street_count', 'bedrooms_count',\n",
    "       'bathrooms_count', 'created_dayofyear_count', 'created_weekofyear_count']"
   ]
  },
  {
   "cell_type": "markdown",
   "metadata": {},
   "source": [
    "## Numeric-categorical interactions"
   ]
  },
  {
   "cell_type": "code",
   "execution_count": 12,
   "metadata": {},
   "outputs": [
    {
     "name": "stdout",
     "output_type": "stream",
     "text": [
      "['price_percentile_by_manager', 'price_percentile_by_building']\n"
     ]
    }
   ],
   "source": [
    "num_cat_vars =[]\n",
    "price_by_manager = full_data.groupby('manager_id')['price'].agg([np.min,np.max,np.median,np.mean]).reset_index()\n",
    "price_by_manager.columns = ['manager_id','min_price_by_manager',\n",
    "                            'max_price_by_manager','median_price_by_manager','mean_price_by_manager']\n",
    "full_data = pd.merge(full_data,price_by_manager, how='left',on='manager_id')\n",
    "\n",
    "price_by_building = full_data.groupby('building_id')['price'].agg([np.min,np.max,np.median,np.mean]).reset_index()\n",
    "price_by_building.columns = ['building_id','min_price_by_building',\n",
    "                            'max_price_by_building','median_price_by_building','mean_price_by_building']\n",
    "full_data = pd.merge(full_data,price_by_building, how='left',on='building_id')\n",
    "\n",
    "\n",
    "full_data['price_percentile_by_manager']=\\\n",
    "            full_data[['price','min_price_by_manager','max_price_by_manager']]\\\n",
    "            .apply(lambda x:(x[0]-x[1])/(x[2]-x[1]) if (x[2]-x[1])!=0 else 0.5,\n",
    "                  axis=1)\n",
    "full_data['price_percentile_by_building']=\\\n",
    "            full_data[['price','min_price_by_building','max_price_by_building']]\\\n",
    "            .apply(lambda x:(x[0]-x[1])/(x[2]-x[1]) if (x[2]-x[1])!=0 else 0.5,\n",
    "                  axis=1)\n",
    "\n",
    "\n",
    "num_cat_vars.append('price_percentile_by_manager')\n",
    "num_cat_vars.append('price_percentile_by_building')\n",
    "\n",
    "print (num_cat_vars)"
   ]
  },
  {
   "cell_type": "markdown",
   "metadata": {},
   "source": [
    "## Two-way categorical features interactions"
   ]
  },
  {
   "cell_type": "code",
   "execution_count": 13,
   "metadata": {},
   "outputs": [
    {
     "data": {
      "text/plain": [
       "['building_id',\n",
       " 'manager_id',\n",
       " 'display_address',\n",
       " 'street_address',\n",
       " 'building_id-manager_id',\n",
       " 'building_id-display_address',\n",
       " 'building_id-street_address',\n",
       " 'manager_id-display_address',\n",
       " 'manager_id-street_address',\n",
       " 'display_address-street_address']"
      ]
     },
     "execution_count": 13,
     "metadata": {},
     "output_type": "execute_result"
    }
   ],
   "source": [
    "for comb in itertools.combinations(cat_vars, 2):\n",
    "    comb_var_name = comb[0] +'-'+ comb[1]\n",
    "    full_data [comb_var_name] = full_data [ comb[0]].astype(str) +'_' + full_data [ comb[1]].astype(str)\n",
    "    cat_vars.append(comb_var_name)\n",
    "\n",
    "cat_vars    "
   ]
  },
  {
   "cell_type": "markdown",
   "metadata": {},
   "source": [
    "## Text features\n",
    "\n",
    "* Here we are using CountVectorizer but you are encouraged to give TfidfVectorizer a try.\n",
    "\n",
    "* The parameter of max_features to be tuned\n",
    "\n",
    "* The outputs are sparse matrices which can be merged with numpy arrays using scipy.stats.sparse.hstack function\n"
   ]
  },
  {
   "cell_type": "code",
   "execution_count": 14,
   "metadata": {},
   "outputs": [],
   "source": [
    "full_data[\"features\"].apply(lambda x: \" \".join([\"_\".join(i.split(\" \")) for i in x]))\n",
    "cntvec = CountVectorizer(stop_words='english', max_features=200)\n",
    "feature_sparse =cntvec.fit_transform(full_data[\"features\"]\\\n",
    "                                     .apply(lambda x: \" \".join([\"_\".join(i.split(\" \")) for i in x])))\n",
    "\n",
    "feature_vars = ['feature_' + v for v in cntvec.vocabulary_]\n",
    "\n",
    "cntvec = CountVectorizer(stop_words='english', max_features=100)\n",
    "desc_sparse = cntvec.fit_transform(full_data[\"description\"])\n",
    "desc_vars = ['desc_' + v for v in cntvec.vocabulary_]\n",
    "\n",
    "\n",
    "cntvec = CountVectorizer(stop_words='english', max_features=10)\n",
    "st_addr_sparse = cntvec.fit_transform(full_data[\"street_address\"])\n",
    "st_addr_vars = ['desc_' + v for v in cntvec.vocabulary_]"
   ]
  },
  {
   "cell_type": "markdown",
   "metadata": {},
   "source": [
    "## Categorical features - label encoding"
   ]
  },
  {
   "cell_type": "code",
   "execution_count": 15,
   "metadata": {},
   "outputs": [
    {
     "name": "stdout",
     "output_type": "stream",
     "text": [
      "Label Encoding building_id\n",
      "Label Encoding manager_id\n",
      "Label Encoding display_address\n",
      "Label Encoding street_address\n",
      "Label Encoding building_id-manager_id\n",
      "Label Encoding building_id-display_address\n",
      "Label Encoding building_id-street_address\n",
      "Label Encoding manager_id-display_address\n",
      "Label Encoding manager_id-street_address\n",
      "Label Encoding display_address-street_address\n",
      "Label-encoded feaures: ['building_id_le', 'manager_id_le', 'display_address_le', 'street_address_le', 'building_id-manager_id_le', 'building_id-display_address_le', 'building_id-street_address_le', 'manager_id-display_address_le', 'manager_id-street_address_le', 'display_address-street_address_le']\n"
     ]
    }
   ],
   "source": [
    "LBL = preprocessing.LabelEncoder()\n",
    "\n",
    "LE_vars=[]\n",
    "LE_map=dict()\n",
    "for cat_var in cat_vars:\n",
    "    print (\"Label Encoding %s\" % (cat_var))\n",
    "    LE_var=cat_var+'_le'\n",
    "    full_data[LE_var]=LBL.fit_transform(full_data[cat_var])\n",
    "    LE_vars.append(LE_var)\n",
    "    LE_map[cat_var]=LBL.classes_\n",
    "    \n",
    "print (\"Label-encoded feaures: %s\" % (LE_vars))"
   ]
  },
  {
   "cell_type": "markdown",
   "metadata": {},
   "source": [
    "## Categorical features - one hot encoding\n",
    "\n",
    "The output is a sparse matrix"
   ]
  },
  {
   "cell_type": "code",
   "execution_count": 16,
   "metadata": {},
   "outputs": [
    {
     "name": "stderr",
     "output_type": "stream",
     "text": [
      "/opt/conda/lib/python3.6/site-packages/sklearn/preprocessing/_encoders.py:415: FutureWarning: The handling of integer data will change in version 0.22. Currently, the categories are determined based on the range [0, max(values)], while in the future they will be determined based on the unique values.\n",
      "If you want the future behaviour and silence this warning, you can specify \"categories='auto'\".\n",
      "In case you used a LabelEncoder before this OneHotEncoder to convert the categories to integers, then you can now use the OneHotEncoder directly.\n",
      "  warnings.warn(msg, FutureWarning)\n"
     ]
    },
    {
     "name": "stdout",
     "output_type": "stream",
     "text": [
      "One-hot-encoding finished in 0.843020 seconds\n",
      "OHE_sparse size : (124011, 340241)\n",
      "One-hot encoded catgorical feature samples : ['building_0', 'building_00005cb939f9986300d987652c933e15', 'building_00024d77a43f0606f926e2312513845c', 'building_000ae4b7db298401cdae2b0ba1ea8146', 'building_0012f1955391bca600ec301035b97b65', 'building_0021440c04241281a436ec21accc40b1', 'building_002d1eba40aa0a6610e04ff20543585f', 'building_003d8740e21484dcc2280639b25539a4', 'building_00480e54b53fe77d17964be3f8307a99', 'building_00553d95d22484bcc36831c9248d1dbc', 'building_0055c8662ba19e95f78df97592d2b83e', 'building_0056dbdf2881b76f2a0171eb753ec9e0', 'building_0059ae562b9e338a59eaf962cb3eedd2', 'building_005e0f8d7fb7b92be351cbf1dd985149', 'building_0067f166111490e7af7f1a878a67bb5e', 'building_0070bc94a3f80aa717bb15708e98ba54', 'building_0071cda335745940cdae1dc31abfc701', 'building_0078281cd69f4bfec17e42e5cf5eecd9', 'building_0078c2ab46afba9969637ac83621901e', 'building_007ae1cd90420f18bad7b6892a9a1411', 'building_007cd8edc45c6cfbcabd88f70d59a513', 'building_008d3e3a11295305966844713b685f7d', 'building_008ff72d77a8fc85eccfc4ec33ec09a3', 'building_0095cb49c423ec7b204e26d76c56bd35', 'building_009c6ad006e8fd679991c5f8cffaef9f', 'building_009f494b0636f32b96b41926ec7c4bf2', 'building_00a4e18de6c9a7bbec33c77e0588a3b9', 'building_00a61b88186b5115356374b0f5dd0d1e', 'building_00a7b4a6aec7ca1a1635c622918b68f0', 'building_00a94a38fcda000b4448370839a25ac8', 'building_00b2da856a75f0f5690996b0a0b1f397', 'building_00bafd8e05682a7c7e36b4046acd0f1b', 'building_00bb734cde488aa3e1f3e5f1376b9c13', 'building_00cca782a37fc2bb91b080ede56fa7cf', 'building_00ce59a4de554163bda36549de6bf967', 'building_00d1b109f921cd8bc69a203bf35a9bac', 'building_00dfd2bccb9127f2e7966ff29ae1e060', 'building_00e3e6bb0d19bb601842c0ab9589f9a2', 'building_00e8bbc4c74980a06c187165d9a5869e', 'building_00e980b7c97376eb19e0b1be650ccb64', 'building_00ecc203c49a4651cf186de65f308ac1', 'building_00fdda7f129d05ab200c31c0c6de8dfd', 'building_00ffdfd150acc0b097182bbf9dd1db28', 'building_0103d0d57f197a73cdfd0f2f26870d74', 'building_010435ab3b0b415421d583937a55283e', 'building_0106f282d2dfe616303b86e5b68df6b4', 'building_010f3d0141cd76667ca8e3d86e221cf2', 'building_0114c80bf2a9027612083e354d7fbdbc', 'building_0117976b081298aea99e21c327ab25a4', 'building_011a3c781df937c2991a3832b547b158', 'building_01298c8fd1e6e332fb4c188a7183a206', 'building_012fcf2833e0e07897b682ab6f82be3b', 'building_013a96b772f0e46731faee50ad25d727', 'building_01401bc9a8908b2d6ffa84ebf9e1b984', 'building_0145e758b990b8d2648ee57c30762d76', 'building_0152c6255a4e29051b817ce6f3f6dd6f', 'building_0155fa9629c4d68dbe9106b9ac3866ad', 'building_015901f6966b695aec0bda32e36423d6', 'building_015bf4a41140bb7304d338437192f2ab', 'building_015cf622b143eb8703307cf591e9dd46', 'building_01601e509316d5e48176d0f034e04f9f', 'building_016124e48651db465762bfbaf7a9080b', 'building_0162edae269da1472fcbdf4f61df7c7a', 'building_0165775b1775642fb0f71595e83484ba', 'building_0166aa8add8bdc29ca360ab1db5c77f9', 'building_016e30568187a4bd83bf86ca02837544', 'building_017c4715165fe36e5a4372ebf15207f1', 'building_017c9eb62166b050a144adad22b91c00', 'building_017e4ac152c10d537fb2acb3743f2162', 'building_018023115a3d3d3273b25a3357e5358a', 'building_0180389cfd65c7037149466dc934afd3', 'building_01813414c43aedaf8f1b1fb74cef3f99', 'building_018b0a85428622d9a6447fd475cf8bff', 'building_018cd3169a68bd83a92c341d8349b77d', 'building_01904e878eec9c80a40d70f6495454c2', 'building_0195041256b2514a6047a340b0561c3e', 'building_019adbb79eb99ed4c4b9dea91571aa91', 'building_019ce6c2904c70141b3c6fd6d7557344', 'building_019e909a65d7d2e3bf22c6334bf15a7e', 'building_01a430b383a468bcfb6a6dec9f6d42cd', 'building_01a8c78a8ec0234b5e9bd8645fb2ce43', 'building_01acba2c701ccf3528ddf17f1006f694', 'building_01ae28a1834d9bb940cfa2daa78b59c6', 'building_01bb059f7b7619ed7a5f74a97b9ce2ed', 'building_01bd855b1c9b786e37c13c25e5a81fda', 'building_01bfd6631a820706cb16bae93585d998', 'building_01cb79b2d06a9844231c42b3f05eb0c2', 'building_01cb7ce5bc25ca98fcca6ed5236c3224', 'building_01cd1cd0b21bbd22da7381a248d4fdc8', 'building_01cefee671bc17927058c0c579d459cb', 'building_01d767115586534b39d5224710dc56a4', 'building_01d79491cfd8271eaf73a5d69a759ef0', 'building_01d7a001b3a497c25c3a01955d45c339', 'building_01db3503f72909222100231ff6905a78', 'building_01df496b33f2402c5c18076b5f45c916', 'building_01e23bdc82cbdb20a15d290c02572a5d', 'building_01ee5fb703946538f9a34e22f48939e9', 'building_01f27b3de1bf1ee3218e88e64c3315a0', 'building_01f582fe206ca52144a3ac43c14653f7', 'building_01f85713461b5be6a172f4c3db190668']\n"
     ]
    }
   ],
   "source": [
    "OHE = preprocessing.OneHotEncoder(sparse=True)\n",
    "start=time.time()\n",
    "OHE.fit(full_data[LE_vars])\n",
    "OHE_sparse=OHE.transform(full_data[LE_vars])\n",
    "                                   \n",
    "print ('One-hot-encoding finished in %f seconds' % (time.time()-start))\n",
    "\n",
    "\n",
    "OHE_vars = [var[:-3] + '_' + str(level).replace(' ','_')\\\n",
    "                for var in cat_vars for level in LE_map[var] ]\n",
    "\n",
    "print (\"OHE_sparse size :\" ,OHE_sparse.shape)\n",
    "print (\"One-hot encoded catgorical feature samples : %s\" % (OHE_vars[:100]))"
   ]
  },
  {
   "cell_type": "markdown",
   "metadata": {},
   "source": [
    "## Categorical features - mean encoding"
   ]
  },
  {
   "cell_type": "code",
   "execution_count": 17,
   "metadata": {},
   "outputs": [],
   "source": [
    "import numpy as np\n",
    "import pandas as pd\n",
    "from sklearn.model_selection import StratifiedKFold\n",
    "from itertools import product\n",
    "\n",
    "class MeanEncoder:\n",
    "    def __init__(self, categorical_features, n_splits=5, target_type='classification', prior_weight_func=None):\n",
    "        \"\"\"\n",
    "        :param categorical_features: list of str, the name of the categorical columns to encode\n",
    "\n",
    "        :param n_splits: the number of splits used in mean encoding\n",
    "\n",
    "        :param target_type: str, 'regression' or 'classification'\n",
    "\n",
    "        :param prior_weight_func:\n",
    "        a function that takes in the number of observations, and outputs prior weight\n",
    "        when a dict is passed, the default exponential decay function will be used:\n",
    "        k: the number of observations needed for the posterior to be weighted equally as the prior\n",
    "        f: larger f --> smaller slope\n",
    "        \"\"\"\n",
    "\n",
    "        self.categorical_features = categorical_features\n",
    "        self.n_splits = n_splits\n",
    "        self.learned_stats = {}\n",
    "\n",
    "        if target_type == 'classification':\n",
    "            self.target_type = target_type\n",
    "            self.target_values = []\n",
    "        else:\n",
    "            self.target_type = 'regression'\n",
    "            self.target_values = None\n",
    "\n",
    "        if isinstance(prior_weight_func, dict):\n",
    "            self.prior_weight_func = eval('lambda x: 1 / (1 + np.exp((x - k) / f))', dict(prior_weight_func, np=np))\n",
    "        elif callable(prior_weight_func):\n",
    "            self.prior_weight_func = prior_weight_func\n",
    "        else:\n",
    "            self.prior_weight_func = lambda x: 1 / (1 + np.exp((x - 2) / 1))\n",
    "\n",
    "    @staticmethod\n",
    "    def mean_encode_subroutine(X_train, y_train, X_test, variable, target, prior_weight_func):\n",
    "        X_train = X_train[[variable]].copy()\n",
    "        X_test = X_test[[variable]].copy()\n",
    "\n",
    "        if target is not None:\n",
    "            nf_name = '{}_pred_{}'.format(variable, target)\n",
    "            X_train['pred_temp'] = (y_train == target).astype(int)  # classification\n",
    "        else:\n",
    "            nf_name = '{}_pred'.format(variable)\n",
    "            X_train['pred_temp'] = y_train  # regression\n",
    "        prior = X_train['pred_temp'].mean()\n",
    "\n",
    "        col_avg_y = X_train.groupby(by=variable, axis=0)['pred_temp'].agg({'mean': 'mean', 'beta': 'size'})\n",
    "        col_avg_y['beta'] = prior_weight_func(col_avg_y['beta'])\n",
    "        col_avg_y[nf_name] = col_avg_y['beta'] * prior + (1 - col_avg_y['beta']) * col_avg_y['mean']\n",
    "        col_avg_y.drop(['beta', 'mean'], axis=1, inplace=True)\n",
    "\n",
    "        nf_train = X_train.join(col_avg_y, on=variable)[nf_name].values\n",
    "        nf_test = X_test.join(col_avg_y, on=variable).fillna(prior, inplace=False)[nf_name].values\n",
    "\n",
    "        return nf_train, nf_test, prior, col_avg_y\n",
    "\n",
    "    def fit_transform(self, X, y):\n",
    "        \"\"\"\n",
    "        :param X: pandas DataFrame, n_samples * n_features\n",
    "        :param y: pandas Series or numpy array, n_samples\n",
    "        :return X_new: the transformed pandas DataFrame containing mean-encoded categorical features\n",
    "        \"\"\"\n",
    "        X_new = X.copy()\n",
    "        if self.target_type == 'classification':\n",
    "            skf = StratifiedKFold(self.n_splits)\n",
    "        else:\n",
    "            skf = KFold(self.n_splits)\n",
    "\n",
    "        if self.target_type == 'classification':\n",
    "            self.target_values = sorted(set(y))\n",
    "            self.learned_stats = {'{}_pred_{}'.format(variable, target): [] for variable, target in\n",
    "                                  product(self.categorical_features, self.target_values)}\n",
    "            for variable, target in product(self.categorical_features, self.target_values):\n",
    "                nf_name = '{}_pred_{}'.format(variable, target)\n",
    "                X_new.loc[:, nf_name] = np.nan\n",
    "                for large_ind, small_ind in skf.split(y, y):\n",
    "                    nf_large, nf_small, prior, col_avg_y = MeanEncoder.mean_encode_subroutine(\n",
    "                        X_new.iloc[large_ind], y.iloc[large_ind], X_new.iloc[small_ind], variable, target, self.prior_weight_func)\n",
    "                    X_new.iloc[small_ind, -1] = nf_small\n",
    "                    self.learned_stats[nf_name].append((prior, col_avg_y))\n",
    "        else:\n",
    "            self.learned_stats = {'{}_pred'.format(variable): [] for variable in self.categorical_features}\n",
    "            for variable in self.categorical_features:\n",
    "                nf_name = '{}_pred'.format(variable)\n",
    "                X_new.loc[:, nf_name] = np.nan\n",
    "                for large_ind, small_ind in skf.split(y, y):\n",
    "                    nf_large, nf_small, prior, col_avg_y = MeanEncoder.mean_encode_subroutine(\n",
    "                        X_new.iloc[large_ind], y.iloc[large_ind], X_new.iloc[small_ind], variable, None, self.prior_weight_func)\n",
    "                    X_new.iloc[small_ind, -1] = nf_small\n",
    "                    self.learned_stats[nf_name].append((prior, col_avg_y))\n",
    "        return X_new\n",
    "\n",
    "    def transform(self, X):\n",
    "        \"\"\"\n",
    "        :param X: pandas DataFrame, n_samples * n_features\n",
    "        :return X_new: the transformed pandas DataFrame containing mean-encoded categorical features\n",
    "        \"\"\"\n",
    "        X_new = X.copy()\n",
    "\n",
    "        if self.target_type == 'classification':\n",
    "            for variable, target in product(self.categorical_features, self.target_values):\n",
    "                nf_name = '{}_pred_{}'.format(variable, target)\n",
    "                X_new[nf_name] = 0\n",
    "                for prior, col_avg_y in self.learned_stats[nf_name]:\n",
    "                    X_new[nf_name] += X_new[[variable]].join(col_avg_y, on=variable).fillna(prior, inplace=False)[\n",
    "                        nf_name]\n",
    "                X_new[nf_name] /= self.n_splits\n",
    "        else:\n",
    "            for variable in self.categorical_features:\n",
    "                nf_name = '{}_pred'.format(variable)\n",
    "                X_new[nf_name] = 0\n",
    "                for prior, col_avg_y in self.learned_stats[nf_name]:\n",
    "                    X_new[nf_name] += X_new[[variable]].join(col_avg_y, on=variable).fillna(prior, inplace=False)[\n",
    "                        nf_name]\n",
    "                X_new[nf_name] /= self.n_splits\n",
    "\n",
    "        return X_new"
   ]
  },
  {
   "cell_type": "code",
   "execution_count": 18,
   "metadata": {},
   "outputs": [
    {
     "name": "stderr",
     "output_type": "stream",
     "text": [
      "/opt/conda/lib/python3.6/site-packages/ipykernel_launcher.py:53: FutureWarning: using a dict on a Series for aggregation\n",
      "is deprecated and will be removed in a future version. Use                 named aggregation instead.\n",
      "\n",
      "    >>> grouper.agg(name_1=func_1, name_2=func_2)\n",
      "\n",
      "/opt/conda/lib/python3.6/site-packages/ipykernel_launcher.py:53: FutureWarning: using a dict on a Series for aggregation\n",
      "is deprecated and will be removed in a future version. Use                 named aggregation instead.\n",
      "\n",
      "    >>> grouper.agg(name_1=func_1, name_2=func_2)\n",
      "\n",
      "/opt/conda/lib/python3.6/site-packages/ipykernel_launcher.py:53: FutureWarning: using a dict on a Series for aggregation\n",
      "is deprecated and will be removed in a future version. Use                 named aggregation instead.\n",
      "\n",
      "    >>> grouper.agg(name_1=func_1, name_2=func_2)\n",
      "\n",
      "/opt/conda/lib/python3.6/site-packages/ipykernel_launcher.py:53: FutureWarning: using a dict on a Series for aggregation\n",
      "is deprecated and will be removed in a future version. Use                 named aggregation instead.\n",
      "\n",
      "    >>> grouper.agg(name_1=func_1, name_2=func_2)\n",
      "\n",
      "/opt/conda/lib/python3.6/site-packages/ipykernel_launcher.py:53: FutureWarning: using a dict on a Series for aggregation\n",
      "is deprecated and will be removed in a future version. Use                 named aggregation instead.\n",
      "\n",
      "    >>> grouper.agg(name_1=func_1, name_2=func_2)\n",
      "\n",
      "/opt/conda/lib/python3.6/site-packages/ipykernel_launcher.py:53: FutureWarning: using a dict on a Series for aggregation\n",
      "is deprecated and will be removed in a future version. Use                 named aggregation instead.\n",
      "\n",
      "    >>> grouper.agg(name_1=func_1, name_2=func_2)\n",
      "\n"
     ]
    }
   ],
   "source": [
    "mean_encoder = MeanEncoder(categorical_features=['manager_id','building_id'])\n",
    "mean_encoded_train = mean_encoder.fit_transform(train_data, train_data['target'])\n",
    "mean_encoded_test = mean_encoder.transform(test_data)\n",
    "\n",
    "mean_coded_vars = list(set(mean_encoded_train.columns) - set(train_data.columns))\n",
    "mean_coded_vars.append('listing_id')\n",
    "full_data = pd.merge(full_data, \n",
    "                     pd.concat([mean_encoded_train[mean_coded_vars], mean_encoded_test[mean_coded_vars]]),\n",
    "                     how='left',\n",
    "                     on='listing_id'\n",
    "                    )"
   ]
  },
  {
   "cell_type": "markdown",
   "metadata": {},
   "source": [
    "## Baseline"
   ]
  },
  {
   "cell_type": "code",
   "execution_count": 19,
   "metadata": {},
   "outputs": [
    {
     "name": "stdout",
     "output_type": "stream",
     "text": [
      "training data size:  (49352, 380) testing data size:  (74659, 380)\n"
     ]
    }
   ],
   "source": [
    "full_vars = num_vars + date_num_vars + additional_num_vars + interactive_num_vars+ geo_cat_vars +geo_num_vars+ count_vars + LE_vars + mean_coded_vars\n",
    "train_x = sparse.hstack([full_data[full_vars], \n",
    "                         feature_sparse, \n",
    "                         desc_sparse, \n",
    "                         st_addr_sparse]).tocsr()[:train_size]\n",
    "train_y = full_data['target'][:train_size].values\n",
    "test_x = sparse.hstack([full_data[full_vars], \n",
    "                        feature_sparse, \n",
    "                        desc_sparse, \n",
    "                        st_addr_sparse]).tocsr()[train_size:]\n",
    "test_y = full_data['target'][train_size:].values\n",
    "\n",
    "\n",
    "full_vars = full_vars + feature_vars + desc_vars + st_addr_vars    \n",
    "print (\"training data size: \", train_x.shape,\"testing data size: \", test_x.shape)"
   ]
  },
  {
   "cell_type": "code",
   "execution_count": 20,
   "metadata": {},
   "outputs": [
    {
     "data": {
      "text/plain": [
       "{'bathrooms_count',\n",
       " 'bedrooms_count',\n",
       " 'building_count',\n",
       " 'created_dayofyear_count',\n",
       " 'created_weekofyear_count',\n",
       " 'geo_area_100',\n",
       " 'geo_area_200',\n",
       " 'geo_area_50',\n",
       " 'manager_count',\n",
       " 'street_count'}"
      ]
     },
     "execution_count": 20,
     "metadata": {},
     "output_type": "execute_result"
    }
   ],
   "source": [
    "set(['bathrooms', 'bedrooms', 'latitude', 'longitude', 'price', 'created_month', 'created_dayofweek', 'created_dayofyear', 'created_weekofyear', 'created_hour', 'created_epoch', 'rooms', 'num_of_photos', 'num_of_features', 'len_of_desc', 'words_of_desc', 'has_phone', 'has_email', 'building_id_is_zero', 'avg_word_len', 'price_per_room', 'price_per_bedroom', 'price_per_bathroom', 'price_per_feature', 'price_per_photo', 'price_per_word', 'price_by_desc_len', 'photos_per_room', 'photos_per_bedroom', 'photos_per_bathroom', 'desc_len_per_room', 'desc_len_per_bedroom', 'desc_len_per_bathroom', 'desc_len_per_word', 'desc_len_per_numeric', 'features_per_room', 'features_per_bedroom', 'features_per_bathroom', 'features_per_photo', 'features_per_word', 'features_by_desc_len', 'geo_area_50', 'geo_area_100', 'geo_area_200', 'manager_count', 'building_count', 'street_count', 'bedrooms_count', 'bathrooms_count', 'created_dayofyear_count', 'created_weekofyear_count', 'building_id_le', 'manager_id_le', 'display_address_le', 'street_address_le', 'building_id-manager_id_le', 'building_id-display_address_le', 'building_id-street_address_le', 'manager_id-display_address_le', 'manager_id-street_address_le', 'display_address-street_address_le', 'building_id_pred_1', 'manager_id_pred_2', 'building_id_pred_0', 'building_id_pred_2', 'manager_id_pred_0', 'manager_id_pred_1', 'listing_id'])-set(['bathrooms', 'bedrooms', 'latitude', 'longitude', 'price', 'created_month', 'created_dayofweek', 'created_dayofyear', 'created_weekofyear', 'created_hour', 'created_epoch', 'rooms', 'num_of_photos', 'num_of_features', 'len_of_desc', 'words_of_desc', 'has_phone', 'has_email', 'building_id_is_zero', 'avg_word_len', 'price_per_room', 'price_per_bedroom', 'price_per_bathroom', 'price_per_feature', 'price_per_photo', 'price_per_word', 'price_by_desc_len', 'photos_per_room', 'photos_per_bedroom', 'photos_per_bathroom', 'desc_len_per_room', 'desc_len_per_bedroom', 'desc_len_per_bathroom', 'desc_len_per_word', 'desc_len_per_numeric', 'features_per_room', 'features_per_bedroom', 'features_per_bathroom', 'features_per_photo', 'features_per_word', 'features_by_desc_len', 'norm_listing_id', 'building_id_le', 'manager_id_le', 'display_address_le', 'street_address_le', 'building_id-manager_id_le', 'building_id-display_address_le', 'building_id-street_address_le', 'manager_id-display_address_le', 'manager_id-street_address_le', 'display_address-street_address_le', 'building_id_pred_1', 'manager_id_pred_2', 'building_id_pred_0', 'building_id_pred_2', 'manager_id_pred_0', 'manager_id_pred_1', 'listing_id'])"
   ]
  },
  {
   "cell_type": "markdown",
   "metadata": {},
   "source": [
    "### LightGBM \n",
    "\n",
    "Typically, GBDT model converges faster with a larger learning rate (e.g 0.1) than smaller learning rate however the accuracy may not be as promising. We will be using 0.1 as the learning rate for the rest of this notebook."
   ]
  },
  {
   "cell_type": "markdown",
   "metadata": {},
   "source": [
    "#### Large learning rate"
   ]
  },
  {
   "cell_type": "code",
   "execution_count": 21,
   "metadata": {},
   "outputs": [
    {
     "name": "stdout",
     "output_type": "stream",
     "text": [
      "[50]\tcv_agg's multi_logloss: 0.545721 + 0.00447754\n",
      "[100]\tcv_agg's multi_logloss: 0.533822 + 0.0050867\n",
      "[150]\tcv_agg's multi_logloss: 0.532546 + 0.00540632\n",
      "[200]\tcv_agg's multi_logloss: 0.533726 + 0.00491786\n",
      "Best iteration: 158, best score: 0.532456\n",
      "CPU times: user 5min 54s, sys: 2.4 s, total: 5min 57s\n",
      "Wall time: 1min 30s\n"
     ]
    }
   ],
   "source": [
    "%%time\n",
    "import lightgbm as lgb\n",
    "lgb_params = dict()\n",
    "lgb_params['objective'] = 'multiclass'\n",
    "lgb_params['num_class'] = 3\n",
    "lgb_params['learning_rate'] = 0.1\n",
    "lgb_params['num_leaves'] = 63\n",
    "lgb_params['max_depth'] = 15\n",
    "lgb_params['min_gain_to_split '] = 1\n",
    "lgb_params['subsample'] = 0.7\n",
    "lgb_params['colsample_bytree'] = 0.7\n",
    "lgb_params['min_sum_hessian_in_leaf'] = 0.001\n",
    "lgb_params['seed']=42\n",
    "\n",
    "lgb_cv = lgb.cv(lgb_params,\n",
    "                lgb.Dataset(train_x,\n",
    "                            label=train_y\n",
    "                            ),\n",
    "                num_boost_round=100000,\n",
    "                nfold=5,\n",
    "                stratified=True,\n",
    "                shuffle=True,\n",
    "                early_stopping_rounds=50,\n",
    "                seed=42,\n",
    "                verbose_eval=50)\n",
    "\n",
    "\n",
    "best_score = min(lgb_cv['multi_logloss-mean'])\n",
    "best_iteration = len(lgb_cv['multi_logloss-mean'])\n",
    "print ('Best iteration: %d, best score: %f' % (best_iteration, best_score))\n",
    "# 0.549718"
   ]
  },
  {
   "cell_type": "markdown",
   "metadata": {},
   "source": [
    "#### small learning rate"
   ]
  },
  {
   "cell_type": "code",
   "execution_count": 22,
   "metadata": {},
   "outputs": [
    {
     "name": "stdout",
     "output_type": "stream",
     "text": [
      "[50]\tcv_agg's multi_logloss: 0.573366 + 0.00341929\n",
      "[100]\tcv_agg's multi_logloss: 0.544896 + 0.00457299\n",
      "[150]\tcv_agg's multi_logloss: 0.536127 + 0.00458239\n",
      "[200]\tcv_agg's multi_logloss: 0.532382 + 0.00440243\n",
      "[250]\tcv_agg's multi_logloss: 0.530803 + 0.00433631\n",
      "[300]\tcv_agg's multi_logloss: 0.530336 + 0.00414269\n",
      "[350]\tcv_agg's multi_logloss: 0.530255 + 0.00417446\n",
      "Best iteration: 320, best score: 0.530150\n",
      "CPU times: user 10min 42s, sys: 4.01 s, total: 10min 46s\n",
      "Wall time: 2min 44s\n"
     ]
    }
   ],
   "source": [
    "%%time\n",
    "lgb_params = dict()\n",
    "lgb_params['objective'] = 'multiclass'\n",
    "lgb_params['num_class'] = 3\n",
    "lgb_params['learning_rate'] = 0.05\n",
    "lgb_params['num_leaves'] = 63\n",
    "lgb_params['max_depth'] = 15\n",
    "lgb_params['min_gain_to_split '] = 1\n",
    "lgb_params['subsample'] = 0.7\n",
    "lgb_params['colsample_bytree'] = 0.7\n",
    "lgb_params['min_sum_hessian_in_leaf'] = 0.001\n",
    "lgb_params['seed']=42\n",
    "\n",
    "lgb_cv = lgb.cv(lgb_params,\n",
    "                lgb.Dataset(train_x,\n",
    "                            label=train_y\n",
    "                            ),\n",
    "                num_boost_round=100000,\n",
    "                nfold=5,\n",
    "                stratified=True,\n",
    "                shuffle=True,\n",
    "                early_stopping_rounds=50,\n",
    "                seed=42,\n",
    "                verbose_eval=50)\n",
    "\n",
    "\n",
    "best_score = min(lgb_cv['multi_logloss-mean'])\n",
    "best_iteration = len(lgb_cv['multi_logloss-mean'])\n",
    "print ('Best iteration: %d, best score: %f' % (best_iteration, best_score))"
   ]
  },
  {
   "cell_type": "markdown",
   "metadata": {},
   "source": [
    "## listing ID\n",
    "Theoretically ID variable is not supposed to be included in training a model. However, for some reason listing_id appears to be correlated to the created date time and therefore might be a good candidate as a feature:"
   ]
  },
  {
   "cell_type": "code",
   "execution_count": 23,
   "metadata": {},
   "outputs": [
    {
     "data": {
      "text/plain": [
       "<seaborn.axisgrid.JointGrid at 0x7fa669675c18>"
      ]
     },
     "execution_count": 23,
     "metadata": {},
     "output_type": "execute_result"
    },
    {
     "data": {
      "image/png": "[encoded data removed]",
      "text/plain": [
       "<Figure size 432x432 with 3 Axes>"
      ]
     },
     "metadata": {
      "needs_background": "light"
     },
     "output_type": "display_data"
    }
   ],
   "source": [
    "sns.jointplot('listing_id', 'created_epoch', full_data)"
   ]
  },
  {
   "cell_type": "code",
   "execution_count": 24,
   "metadata": {},
   "outputs": [],
   "source": [
    "min_listing_id = full_data['listing_id'].min()\n",
    "max_listing_id = full_data['listing_id'].max()\n",
    "full_data['norm_listing_id']=full_data['listing_id'].apply(lambda x:np.float64((x-min_listing_id+1))/(max_listing_id-min_listing_id+1))\n",
    "listing_vars = [ 'norm_listing_id']"
   ]
  },
  {
   "cell_type": "code",
   "execution_count": 25,
   "metadata": {},
   "outputs": [
    {
     "name": "stdout",
     "output_type": "stream",
     "text": [
      "training data size:  (49352, 381) testing data size:  (74659, 381)\n"
     ]
    }
   ],
   "source": [
    "full_num_vars = num_vars + date_num_vars + additional_num_vars + interactive_num_vars+ geo_cat_vars +geo_num_vars + count_vars \\\n",
    "     + listing_vars\n",
    "full_cat_vars = LE_vars + mean_coded_vars\n",
    "full_vars = full_num_vars + full_cat_vars\n",
    "train_x = sparse.hstack([full_data[full_vars], \n",
    "                         feature_sparse, \n",
    "                         desc_sparse, \n",
    "                         st_addr_sparse]).tocsr()[:train_size]\n",
    "train_y = full_data['target'][:train_size].values\n",
    "test_x = sparse.hstack([full_data[full_vars], \n",
    "                        feature_sparse, \n",
    "                        desc_sparse, \n",
    "                        st_addr_sparse]).tocsr()[train_size:]\n",
    "test_y = full_data['target'][train_size:].values\n",
    "\n",
    "\n",
    "full_vars = full_vars + feature_vars + desc_vars + st_addr_vars    \n",
    "print (\"training data size: \", train_x.shape,\"testing data size: \", test_x.shape)"
   ]
  },
  {
   "cell_type": "code",
   "execution_count": 26,
   "metadata": {},
   "outputs": [
    {
     "name": "stdout",
     "output_type": "stream",
     "text": [
      "[50]\tcv_agg's multi_logloss: 0.545356 + 0.00461699\n",
      "[100]\tcv_agg's multi_logloss: 0.533574 + 0.00493584\n",
      "[150]\tcv_agg's multi_logloss: 0.532052 + 0.0048654\n",
      "Best iteration: 136, best score: 0.531804\n",
      "CPU times: user 5min 28s, sys: 1.98 s, total: 5min 30s\n",
      "Wall time: 1min 24s\n"
     ]
    }
   ],
   "source": [
    "%%time\n",
    "lgb_params = dict()\n",
    "lgb_params['objective'] = 'multiclass'\n",
    "lgb_params['num_class'] = 3\n",
    "lgb_params['learning_rate'] = 0.1\n",
    "lgb_params['num_leaves'] = 63\n",
    "lgb_params['max_depth'] = 15\n",
    "lgb_params['min_gain_to_split '] = 1\n",
    "lgb_params['subsample'] = 0.7\n",
    "lgb_params['colsample_bytree'] = 0.7\n",
    "lgb_params['min_sum_hessian_in_leaf'] = 0.001\n",
    "lgb_params['seed']=42\n",
    "\n",
    "lgb_cv = lgb.cv(lgb_params,\n",
    "                lgb.Dataset(train_x,\n",
    "                            label=train_y\n",
    "                            ),\n",
    "                num_boost_round=100000,\n",
    "                nfold=5,\n",
    "                stratified=True,\n",
    "                shuffle=True,\n",
    "                early_stopping_rounds=50,\n",
    "                seed=42,\n",
    "                verbose_eval=50)\n",
    "\n",
    "\n",
    "best_score = min(lgb_cv['multi_logloss-mean'])\n",
    "best_iteration = len(lgb_cv['multi_logloss-mean'])\n",
    "print ('Best iteration: %d, best score: %f' % (best_iteration, best_score))\n"
   ]
  },
  {
   "cell_type": "code",
   "execution_count": 27,
   "metadata": {},
   "outputs": [
    {
     "name": "stdout",
     "output_type": "stream",
     "text": [
      "[50]\tcv_agg's multi_logloss: 0.573278 + 0.00354571\n",
      "[100]\tcv_agg's multi_logloss: 0.544414 + 0.00501547\n",
      "[150]\tcv_agg's multi_logloss: 0.535681 + 0.00530418\n",
      "[200]\tcv_agg's multi_logloss: 0.532186 + 0.00529804\n",
      "[250]\tcv_agg's multi_logloss: 0.53069 + 0.00523651\n",
      "[300]\tcv_agg's multi_logloss: 0.530067 + 0.00522046\n",
      "[350]\tcv_agg's multi_logloss: 0.529986 + 0.00512631\n",
      "Best iteration: 344, best score: 0.529960\n",
      "CPU times: user 11min 33s, sys: 4.17 s, total: 11min 38s\n",
      "Wall time: 2min 57s\n"
     ]
    }
   ],
   "source": [
    "%%time\n",
    "lgb_params = dict()\n",
    "lgb_params['objective'] = 'multiclass'\n",
    "lgb_params['num_class'] = 3\n",
    "lgb_params['learning_rate'] = 0.05\n",
    "lgb_params['num_leaves'] = 63\n",
    "lgb_params['max_depth'] = 15\n",
    "lgb_params['min_gain_to_split '] = 1\n",
    "lgb_params['subsample'] = 0.7\n",
    "lgb_params['colsample_bytree'] = 0.7\n",
    "lgb_params['min_sum_hessian_in_leaf'] = 0.001\n",
    "lgb_params['seed']=42\n",
    "\n",
    "lgb_cv = lgb.cv(lgb_params,\n",
    "                lgb.Dataset(train_x,\n",
    "                            label=train_y\n",
    "                            ),\n",
    "                num_boost_round=100000,\n",
    "                nfold=5,\n",
    "                stratified=True,\n",
    "                shuffle=True,\n",
    "                early_stopping_rounds=50,\n",
    "                seed=42,\n",
    "                verbose_eval=50)\n",
    "\n",
    "\n",
    "best_score = min(lgb_cv['multi_logloss-mean'])\n",
    "best_iteration = len(lgb_cv['multi_logloss-mean'])\n",
    "print ('Best iteration: %d, best score: %f' % (best_iteration, best_score))"
   ]
  },
  {
   "cell_type": "markdown",
   "metadata": {},
   "source": [
    "## Price"
   ]
  },
  {
   "cell_type": "code",
   "execution_count": 28,
   "metadata": {},
   "outputs": [],
   "source": [
    "mkt_price = full_data.groupby(['building_id', 'display_address', 'bedrooms', 'bathrooms']).price.mean().reset_index()\n",
    "mkt_price = pd.merge(full_data[['building_id', 'display_address', 'bedrooms', 'bathrooms']],\n",
    "                     mkt_price, how='left', on=['building_id', 'display_address', 'bedrooms', 'bathrooms']).price\n",
    "full_data['mkt_price'] = mkt_price.values\n",
    "full_data['diff_to_mkt_price'] = full_data['price'] - full_data['mkt_price']\n",
    "full_data['ratio_to_mkt_price'] = full_data['price'] / full_data['mkt_price']\n",
    "\n",
    "price_vars = ['diff_to_mkt_price', 'ratio_to_mkt_price']"
   ]
  },
  {
   "cell_type": "markdown",
   "metadata": {},
   "source": [
    "## Hack \"HopScore\"\n",
    "\n",
    "Though it may not be 100% correlated it turns out that Renthop uses a system called [\"**HopScore**\"](https://www.renthop.com/agent-guide/the-hopscore) to rank listings. According to the official instruction there are three things to consider to improve HopScore:\n",
    "\n",
    "* Listing freshness\n",
    "* Listing quality\n",
    "* Manager performance\n",
    "\n",
    "This finding is a breakthrough when I worked on feature engineering for this competition and resulted quite a few fruitful ideas.\n"
   ]
  },
  {
   "cell_type": "markdown",
   "metadata": {},
   "source": [
    "### Listing freshness and listing quality"
   ]
  },
  {
   "cell_type": "code",
   "execution_count": 29,
   "metadata": {},
   "outputs": [],
   "source": [
    "import hashlib\n",
    "\n",
    "# unique identifer for listings - photo links uniquely identify a listing\n",
    "full_data['photos_str'] = full_data['photos'].astype(str)\n",
    "full_data['listing_uid'] = full_data[['manager_id', 'building_id','photos_str']].apply(lambda x: hashlib.md5((x[0] + x[1] + x[2]).encode()).hexdigest(), axis=1 )\n",
    "full_data['posted_times'] = full_data.groupby('listing_uid').created_datetime.rank(method='first', na_option='top',pct=True)\n",
    "\n",
    "# Using html tag may improve listing quality\n",
    "full_data['num_of_html_tag']=full_data.description.apply(lambda x:x.count('<'))\n",
    "\n",
    "# Studies have shown that titles with excessive all caps and special characters give renters the impression \n",
    "# that the listing is fraudulent – i.e. BEAUTIFUL***APARTMENT***CHELSEA.\n",
    "full_data['num_of_#']=full_data.description.apply(lambda x:x.count('#'))\n",
    "full_data['num_of_!']=full_data.description.apply(lambda x:x.count('!'))\n",
    "full_data['num_of_$']=full_data.description.apply(lambda x:x.count('$'))\n",
    "full_data['num_of_*']=full_data.description.apply(lambda x:x.count('*'))\n",
    "full_data['num_of_>']=full_data.description.apply(lambda x:x.count('>'))\n",
    "full_data['num_of_puncs']=full_data['num_of_#'] + full_data['num_of_!'] + full_data['num_of_$'] + full_data['num_of_*'] + full_data['num_of_>']\n",
    "full_data['puncs_ratio'] = full_data['num_of_puncs']/full_data['len_of_desc']\n",
    "full_data['upper_char_ratio'] = full_data['description'].apply(lambda x: 0 if sum([s.isalpha() for s in x])==0 else sum([s.isalpha()&s.isupper() for s in x])/ sum([s.isalpha() for s in x]))\n",
    "\n",
    "# Accuracy of location/ address\n",
    "full_data['disp_is_street'] = (full_data['display_address'] == full_data['street_address'])*1\n",
    "full_data['disp_st_addr_word_ratio'] = full_data.apply(lambda x:len(x['display_address'].split(' '))/len(x['street_address'].split(' ')), axis=1)\n",
    "\n",
    "listing_quality_vars = ['disp_is_street', 'num_of_html_tag','num_of_#','num_of_!','num_of_$', 'num_of_*',\n",
    "                        'posted_times', 'disp_st_addr_word_ratio','upper_char_ratio']"
   ]
  },
  {
   "cell_type": "code",
   "execution_count": 30,
   "metadata": {},
   "outputs": [
    {
     "name": "stdout",
     "output_type": "stream",
     "text": [
      "training data size:  (49352, 390) testing data size:  (74659, 390)\n"
     ]
    }
   ],
   "source": [
    "full_num_vars = num_vars + date_num_vars + additional_num_vars + interactive_num_vars+ geo_cat_vars +geo_num_vars + count_vars \\\n",
    "    + listing_vars + listing_quality_vars\n",
    "full_cat_vars = LE_vars + mean_coded_vars\n",
    "full_vars = full_num_vars + full_cat_vars\n",
    "train_x = sparse.hstack([full_data[full_vars], \n",
    "                         feature_sparse, \n",
    "                         desc_sparse, \n",
    "                         st_addr_sparse]).tocsr()[:train_size]\n",
    "train_y = full_data['target'][:train_size].values\n",
    "test_x = sparse.hstack([full_data[full_vars], \n",
    "                        feature_sparse, \n",
    "                        desc_sparse, \n",
    "                        st_addr_sparse]).tocsr()[train_size:]\n",
    "test_y = full_data['target'][train_size:].values\n",
    "\n",
    "\n",
    "full_vars = full_vars + feature_vars + desc_vars + st_addr_vars    \n",
    "print (\"training data size: \", train_x.shape,\"testing data size: \", test_x.shape)"
   ]
  },
  {
   "cell_type": "code",
   "execution_count": 31,
   "metadata": {},
   "outputs": [
    {
     "name": "stdout",
     "output_type": "stream",
     "text": [
      "[50]\tcv_agg's multi_logloss: 0.573034 + 0.00368081\n",
      "[100]\tcv_agg's multi_logloss: 0.544559 + 0.00456516\n",
      "[150]\tcv_agg's multi_logloss: 0.53591 + 0.00466528\n",
      "[200]\tcv_agg's multi_logloss: 0.532557 + 0.00456405\n",
      "[250]\tcv_agg's multi_logloss: 0.531003 + 0.00458374\n",
      "[300]\tcv_agg's multi_logloss: 0.530577 + 0.00471197\n",
      "Best iteration: 289, best score: 0.530488\n",
      "CPU times: user 10min 31s, sys: 3.72 s, total: 10min 34s\n",
      "Wall time: 2min 41s\n"
     ]
    }
   ],
   "source": [
    "%%time\n",
    "lgb_params = dict()\n",
    "lgb_params['objective'] = 'multiclass'\n",
    "lgb_params['num_class'] = 3\n",
    "lgb_params['learning_rate'] = 0.05\n",
    "lgb_params['num_leaves'] = 63\n",
    "lgb_params['max_depth'] = 15\n",
    "lgb_params['min_gain_to_split '] = 1\n",
    "lgb_params['subsample'] = 0.7\n",
    "lgb_params['colsample_bytree'] = 0.7\n",
    "lgb_params['min_sum_hessian_in_leaf'] = 0.001\n",
    "lgb_params['seed']=42\n",
    "\n",
    "lgb_cv = lgb.cv(lgb_params,\n",
    "                lgb.Dataset(train_x,\n",
    "                            label=train_y\n",
    "                            ),\n",
    "                num_boost_round=100000,\n",
    "                nfold=5,\n",
    "                stratified=True,\n",
    "                shuffle=True,\n",
    "                early_stopping_rounds=50,\n",
    "                seed=42,\n",
    "                verbose_eval=50)\n",
    "\n",
    "\n",
    "best_score = min(lgb_cv['multi_logloss-mean'])\n",
    "best_iteration = len(lgb_cv['multi_logloss-mean'])\n",
    "print ('Best iteration: %d, best score: %f' % (best_iteration, best_score))\n",
    "\n",
    "# 0.547453"
   ]
  },
  {
   "cell_type": "markdown",
   "metadata": {},
   "source": [
    "### Manager performance"
   ]
  },
  {
   "cell_type": "code",
   "execution_count": 32,
   "metadata": {},
   "outputs": [],
   "source": [
    "from scipy.stats import skew, kurtosis\n",
    "\n",
    "def p25(x):\n",
    "    return np.percentile(x, 25)\n",
    "def p50(x):\n",
    "    return np.percentile(x, 50)\n",
    "def p75(x):\n",
    "    return np.percentile(x, 75)\n",
    "def nunique(x):\n",
    "    return np.size(np.unique(x))\n",
    "def max_min(x):\n",
    "    return np.max(x)-np.min(x)\n",
    "def p75_p25(x):\n",
    "    return np.percentile(x, 75)-np.percentile(x, 25)\n",
    "\n",
    "\n",
    "\n",
    "def get_group_stats(df, stat_funcs, target_column, group_column, ranking=False, ranking_pct=True):\n",
    "    aggr = df.groupby(group_column)[target_column].agg([v for v in stat_funcs.values()]).reset_index()\n",
    "    aggr.columns = [group_column] + [  target_column + '_' + k + '_by_' + group_column for k in stat_funcs.keys()]\n",
    "    aggr = df[[group_column]].merge(aggr, how='left', on=group_column)\n",
    "    \n",
    "    #rank\n",
    "    if ranking:\n",
    "        aggr[target_column + '_rank_by_' + group_column] = df.groupby(group_column)[target_column].rank(method='dense', \n",
    "                                                                                                    na_option='top',\n",
    "                                                                                                    pct=ranking_pct)\n",
    "    return aggr.drop(group_column, axis=1)"
   ]
  },
  {
   "cell_type": "code",
   "execution_count": 33,
   "metadata": {},
   "outputs": [],
   "source": [
    "stat_funcs = {\n",
    "#     'count_unique': nunique,\n",
    "    'mean': np.mean,\n",
    "    'min': np.min,\n",
    "    'max': np.max,\n",
    "    'std': np.std,\n",
    "    'p25': p25,\n",
    "    'p50': p50,\n",
    "    'p75': p75,\n",
    "    'skew': skew,\n",
    "    'kurtosis': kurtosis,\n",
    "    'max_min': max_min,\n",
    "    'p75_p25': p75_p25\n",
    "}\n",
    "\n",
    "\n",
    "mgr_aggr = pd.DataFrame()\n",
    "for num_var in num_vars + additional_num_vars + listing_quality_vars:\n",
    "    mgr_aggr = pd.concat([mgr_aggr,\n",
    "                          get_group_stats(full_data, stat_funcs,\n",
    "                                          target_column=num_var, group_column='manager_id', ranking=False)\n",
    "                          ],\n",
    "                         axis=1\n",
    "                         )\n",
    "    \n",
    "## manager activeness\n",
    "mgr_aggr = pd.concat([mgr_aggr,\n",
    "                      get_group_stats(full_data, {'max_min': max_min, 'p75_p25': p75_p25},\n",
    "                                      target_column='created_epoch', group_column='manager_id', ranking=False)\n",
    "                      ],\n",
    "                     axis=1\n",
    "                     )\n",
    "\n",
    "mgr_aggr = pd.concat([mgr_aggr,\n",
    "                      get_group_stats(full_data, {'nunique': nunique},\n",
    "                                      target_column='created_dayofyear', group_column='manager_id', ranking=False)\n",
    "                      ],\n",
    "                     axis=1\n",
    "                     )\n",
    "\n",
    "## Buildings managed by the manager\n",
    "mgr_aggr = pd.concat([mgr_aggr,\n",
    "                      get_group_stats(full_data, {'nunique': nunique},\n",
    "                                      target_column='building_id', group_column='manager_id', ranking=False)\n",
    "                      ],\n",
    "                     axis=1\n",
    "                     )\n",
    "\n",
    "## Areas \n",
    "for aggr_col in ['geo_area_50', 'geo_area_100', 'geo_area_200']:\n",
    "    mgr_aggr = pd.concat([mgr_aggr,\n",
    "                          get_group_stats(full_data, {'nunique': nunique},\n",
    "                                          target_column=aggr_col, group_column='manager_id', ranking=False)\n",
    "                          ],\n",
    "                         axis=1\n",
    "                         )\n",
    "\n",
    "## Price fairness    \n",
    "for aggr_col in ['diff_to_mkt_price', 'ratio_to_mkt_price']:\n",
    "    mgr_aggr = pd.concat([mgr_aggr,\n",
    "                          get_group_stats(full_data, {'mean': np.mean},\n",
    "                                          target_column=aggr_col, group_column='manager_id', ranking=False)\n",
    "                          ],\n",
    "                         axis=1\n",
    "                         )"
   ]
  },
  {
   "cell_type": "code",
   "execution_count": 34,
   "metadata": {},
   "outputs": [
    {
     "name": "stdout",
     "output_type": "stream",
     "text": [
      "training data size:  (49352, 639) testing data size:  (74659, 639)\n"
     ]
    }
   ],
   "source": [
    "full_num_vars = num_vars + date_num_vars + additional_num_vars + interactive_num_vars+ geo_cat_vars + count_vars \\\n",
    "    + listing_vars + listing_quality_vars\n",
    "full_cat_vars = LE_vars + mean_coded_vars\n",
    "full_vars = full_num_vars + full_cat_vars\n",
    "train_x = sparse.hstack([full_data[full_vars],\n",
    "                         feature_sparse,\n",
    "                         desc_sparse,\n",
    "                         st_addr_sparse,\n",
    "                         mgr_aggr]).tocsr()[:train_size]\n",
    "train_y = full_data['target'][:train_size].values\n",
    "test_x = sparse.hstack([full_data[full_vars],\n",
    "                        feature_sparse,\n",
    "                        desc_sparse,\n",
    "                        st_addr_sparse,\n",
    "                        mgr_aggr]).tocsr()[train_size:]\n",
    "test_y = full_data['target'][train_size:].values\n",
    "\n",
    "\n",
    "full_vars = full_vars + feature_vars + desc_vars + st_addr_vars\n",
    "print(\"training data size: \", train_x.shape,\n",
    "      \"testing data size: \", test_x.shape)"
   ]
  },
  {
   "cell_type": "code",
   "execution_count": 35,
   "metadata": {},
   "outputs": [
    {
     "name": "stdout",
     "output_type": "stream",
     "text": [
      "[50]\tcv_agg's multi_logloss: 0.572387 + 0.00324105\n",
      "[100]\tcv_agg's multi_logloss: 0.543591 + 0.00447352\n",
      "[150]\tcv_agg's multi_logloss: 0.53509 + 0.00463003\n",
      "[200]\tcv_agg's multi_logloss: 0.531591 + 0.00472818\n",
      "[250]\tcv_agg's multi_logloss: 0.529993 + 0.00471097\n",
      "[300]\tcv_agg's multi_logloss: 0.529779 + 0.00478228\n",
      "Best iteration: 288, best score: 0.529715\n",
      "CPU times: user 24min 36s, sys: 5.57 s, total: 24min 41s\n",
      "Wall time: 6min 17s\n"
     ]
    }
   ],
   "source": [
    "%%time\n",
    "lgb_params = dict()\n",
    "lgb_params['objective'] = 'multiclass'\n",
    "lgb_params['num_class'] = 3\n",
    "lgb_params['learning_rate'] = 0.05\n",
    "lgb_params['num_leaves'] = 63\n",
    "lgb_params['max_depth'] = 15\n",
    "lgb_params['min_gain_to_split '] = 1\n",
    "lgb_params['subsample'] = 0.7\n",
    "lgb_params['colsample_bytree'] = 0.7\n",
    "lgb_params['min_sum_hessian_in_leaf'] = 0.001\n",
    "lgb_params['seed']=42\n",
    "\n",
    "lgb_cv = lgb.cv(lgb_params,\n",
    "                lgb.Dataset(train_x,\n",
    "                            label=train_y\n",
    "                            ),\n",
    "                num_boost_round=100000,\n",
    "                nfold=5,\n",
    "                stratified=True,\n",
    "                shuffle=True,\n",
    "                early_stopping_rounds=50,\n",
    "                seed=42,\n",
    "                verbose_eval=50)\n",
    "\n",
    "\n",
    "best_score = min(lgb_cv['multi_logloss-mean'])\n",
    "best_iteration = len(lgb_cv['multi_logloss-mean'])\n",
    "print ('Best iteration: %d, best score: %f' % (best_iteration, best_score))\n",
    "# Best iteration: 306, best score: 0.531753"
   ]
  },
  {
   "cell_type": "markdown",
   "metadata": {},
   "source": [
    "### Similar for building"
   ]
  },
  {
   "cell_type": "code",
   "execution_count": 36,
   "metadata": {},
   "outputs": [],
   "source": [
    "stat_funcs = {\n",
    "#     'count_unique': nunique,\n",
    "    'mean': np.mean,\n",
    "    'min': np.min,\n",
    "    'max': np.max,\n",
    "    'std': np.std,\n",
    "    'p25': p25,\n",
    "    'p50': p50,\n",
    "    'p75': p75,\n",
    "    'skew': skew,\n",
    "    'kurtosis': kurtosis,\n",
    "    'max_min': max_min,\n",
    "    'p75_p25': p75_p25\n",
    "}\n",
    "\n",
    "\n",
    "building_aggr = pd.DataFrame()\n",
    "\n",
    "building_aggr = pd.concat([building_aggr,\n",
    "                      get_group_stats(full_data, stat_funcs,\n",
    "                                      target_column='price', group_column='building_id', ranking=False)\n",
    "                      ],\n",
    "                     axis=1\n",
    "                     )\n",
    "    \n",
    "\n",
    "## Buildings managed by the manager\n",
    "building_aggr = pd.concat([building_aggr,\n",
    "                      get_group_stats(full_data, {'nunique': nunique},\n",
    "                                      target_column='manager_id', group_column='building_id', ranking=False)\n",
    "                      ],\n",
    "                     axis=1\n",
    "                     )"
   ]
  },
  {
   "cell_type": "code",
   "execution_count": 37,
   "metadata": {},
   "outputs": [
    {
     "name": "stdout",
     "output_type": "stream",
     "text": [
      "training data size:  (49352, 653) testing data size:  (74659, 653)\n"
     ]
    }
   ],
   "source": [
    "full_num_vars = num_vars + date_num_vars + additional_num_vars + interactive_num_vars+ geo_cat_vars +geo_num_vars + count_vars \\\n",
    "    + listing_vars + listing_quality_vars\n",
    "full_cat_vars = LE_vars + mean_coded_vars\n",
    "full_vars = full_num_vars + full_cat_vars\n",
    "train_x = sparse.hstack([full_data[full_vars],\n",
    "                         feature_sparse,\n",
    "                         desc_sparse,\n",
    "                         st_addr_sparse,\n",
    "                         mgr_aggr,\n",
    "                         building_aggr]).tocsr()[:train_size]\n",
    "train_y = full_data['target'][:train_size].values\n",
    "test_x = sparse.hstack([full_data[full_vars],\n",
    "                        feature_sparse,\n",
    "                        desc_sparse,\n",
    "                        st_addr_sparse,\n",
    "                        mgr_aggr,\n",
    "                       building_aggr]).tocsr()[train_size:]\n",
    "test_y = full_data['target'][train_size:].values\n",
    "\n",
    "\n",
    "full_vars = full_vars + feature_vars + desc_vars + st_addr_vars\n",
    "print(\"training data size: \", train_x.shape,\n",
    "      \"testing data size: \", test_x.shape)"
   ]
  },
  {
   "cell_type": "code",
   "execution_count": 38,
   "metadata": {},
   "outputs": [
    {
     "name": "stdout",
     "output_type": "stream",
     "text": [
      "[50]\tcv_agg's multi_logloss: 0.571973 + 0.00341128\n",
      "[100]\tcv_agg's multi_logloss: 0.54311 + 0.00421872\n",
      "[150]\tcv_agg's multi_logloss: 0.534122 + 0.0047964\n",
      "[200]\tcv_agg's multi_logloss: 0.530522 + 0.00488872\n",
      "[250]\tcv_agg's multi_logloss: 0.529113 + 0.00483096\n",
      "[300]\tcv_agg's multi_logloss: 0.52891 + 0.0051341\n",
      "Best iteration: 291, best score: 0.528779\n",
      "CPU times: user 27min 2s, sys: 5.76 s, total: 27min 8s\n",
      "Wall time: 6min 54s\n"
     ]
    }
   ],
   "source": [
    "%%time\n",
    "lgb_params = dict()\n",
    "lgb_params['objective'] = 'multiclass'\n",
    "lgb_params['num_class'] = 3\n",
    "lgb_params['learning_rate'] = 0.05\n",
    "lgb_params['num_leaves'] = 63\n",
    "lgb_params['max_depth'] = 15\n",
    "lgb_params['min_gain_to_split '] = 1\n",
    "lgb_params['subsample'] = 0.7\n",
    "lgb_params['colsample_bytree'] = 0.7\n",
    "lgb_params['min_sum_hessian_in_leaf'] = 0.001\n",
    "lgb_params['seed']=42\n",
    "\n",
    "lgb_cv = lgb.cv(lgb_params,\n",
    "                lgb.Dataset(train_x,\n",
    "                            label=train_y\n",
    "                            ),\n",
    "                num_boost_round=100000,\n",
    "                nfold=5,\n",
    "                stratified=True,\n",
    "                shuffle=True,\n",
    "                early_stopping_rounds=50,\n",
    "                seed=42,\n",
    "                verbose_eval=50)\n",
    "\n",
    "\n",
    "best_score = min(lgb_cv['multi_logloss-mean'])\n",
    "best_iteration = len(lgb_cv['multi_logloss-mean'])\n",
    "print ('Best iteration: %d, best score: %f' % (best_iteration, best_score))\n",
    "# Best iteration: 306, best score: 0.531753"
   ]
  },
  {
   "cell_type": "markdown",
   "metadata": {},
   "source": [
    "## Location Location Location!!!\n",
    "\n",
    "Not all listings were created equally. Location is one of the most dominant factors when seeking a place to live. When we think of location we are not only talking about the absolute location but the relative location, e.g. proximity to facilities such as school, transportations and supermarkets. Unfortunately, these information are not provided by the dataset naively but thanks to Kaggler [Farron](https://www.kaggle.com/mmueller) who graciously shared his secret sauce which brilliantly hacked the proximity information and helped him win the second place in this competition. Here's what he did: \n",
    "> It consists of kmeans cluster of (latitude, longitude) followed by computing statistics like the ones above and cluster center distances. In order to get some proxies for PoI's in the neighborhood, I created clusters after filtering the dataset based on certain words in the descriptions. That way, I estimated coordinates for things like \"supermarket\", \"shopping\", \"subway\", \"bus\", \"health\", \"fitness\", \"park\" etc. Afterwards I created minimal distances to those locations as well as counts based on different distances cut-offs.\n"
   ]
  },
  {
   "cell_type": "markdown",
   "metadata": {},
   "source": [
    "### Parks\n",
    "\n",
    "The biggest challenge for replicating Faron's great idea is to figure out the appropriate number of clusters for each category. How can we do that?"
   ]
  },
  {
   "cell_type": "code",
   "execution_count": 39,
   "metadata": {},
   "outputs": [],
   "source": [
    "from geopy.distance import vincenty\n",
    "\n",
    "from sklearn.cluster import KMeans\n",
    "park_listings = full_data[full_data[['description', 'features']].apply(lambda x: 'park' in x[0] or 'park' in x[1], axis=1)][['latitude', 'longitude']]\n",
    "\n",
    "park_n_clusters = 25\n",
    "kms = KMeans(n_clusters=park_n_clusters)\n",
    "kms.fit(park_listings)\n",
    "\n",
    "park_dist_data = pd.DataFrame(kms.transform(full_data[['latitude', 'longitude']]),\n",
    "                              columns = ['dist_to_park_' + str(i) for i in range(park_n_clusters)]\n",
    "                             )"
   ]
  },
  {
   "cell_type": "code",
   "execution_count": 40,
   "metadata": {},
   "outputs": [
    {
     "name": "stdout",
     "output_type": "stream",
     "text": [
      "training data size:  (49352, 678) testing data size:  (74659, 678)\n"
     ]
    }
   ],
   "source": [
    "full_num_vars = num_vars + date_num_vars + additional_num_vars + interactive_num_vars +geo_num_vars+ geo_cat_vars + count_vars \\\n",
    "    + listing_vars + listing_quality_vars  \n",
    "full_cat_vars = LE_vars + mean_coded_vars\n",
    "full_vars = full_num_vars + full_cat_vars\n",
    "train_x = sparse.hstack([full_data[full_vars],\n",
    "                         feature_sparse,\n",
    "                         desc_sparse,\n",
    "                         st_addr_sparse,\n",
    "                         mgr_aggr,\n",
    "                        building_aggr,\n",
    "                        park_dist_data]).tocsr()[:train_size]\n",
    "train_y = full_data['target'][:train_size].values\n",
    "test_x = sparse.hstack([full_data[full_vars],\n",
    "                        feature_sparse,\n",
    "                        desc_sparse,\n",
    "                        st_addr_sparse,\n",
    "                        mgr_aggr,\n",
    "                       building_aggr,\n",
    "                       park_dist_data]).tocsr()[train_size:]\n",
    "test_y = full_data['target'][train_size:].values\n",
    "\n",
    "\n",
    "full_vars = full_vars + feature_vars + desc_vars + st_addr_vars\n",
    "print(\"training data size: \", train_x.shape,\n",
    "      \"testing data size: \", test_x.shape)"
   ]
  },
  {
   "cell_type": "code",
   "execution_count": 41,
   "metadata": {},
   "outputs": [
    {
     "name": "stdout",
     "output_type": "stream",
     "text": [
      "[50]\tcv_agg's multi_logloss: 0.569651 + 0.0032432\n",
      "[100]\tcv_agg's multi_logloss: 0.539857 + 0.00456987\n",
      "[150]\tcv_agg's multi_logloss: 0.531129 + 0.00481811\n",
      "[200]\tcv_agg's multi_logloss: 0.527458 + 0.00483663\n",
      "[250]\tcv_agg's multi_logloss: 0.526404 + 0.00466007\n",
      "[300]\tcv_agg's multi_logloss: 0.525873 + 0.00471233\n",
      "Best iteration: 299, best score: 0.525851\n",
      "CPU times: user 30min 16s, sys: 6.14 s, total: 30min 22s\n",
      "Wall time: 7min 43s\n"
     ]
    }
   ],
   "source": [
    "%%time\n",
    "lgb_params = dict()\n",
    "lgb_params['objective'] = 'multiclass'\n",
    "lgb_params['num_class'] = 3\n",
    "lgb_params['learning_rate'] = 0.05\n",
    "lgb_params['num_leaves'] = 63\n",
    "lgb_params['max_depth'] = 15\n",
    "lgb_params['min_gain_to_split '] = 1\n",
    "lgb_params['subsample'] = 0.7\n",
    "lgb_params['colsample_bytree'] = 0.7\n",
    "lgb_params['min_sum_hessian_in_leaf'] = 0.001\n",
    "lgb_params['seed']=42\n",
    "\n",
    "lgb_cv = lgb.cv(lgb_params,\n",
    "                lgb.Dataset(train_x,\n",
    "                            label=train_y\n",
    "                            ),\n",
    "                num_boost_round=100000,\n",
    "                nfold=5,\n",
    "                stratified=True,\n",
    "                shuffle=True,\n",
    "                early_stopping_rounds=50,\n",
    "                seed=42,\n",
    "                verbose_eval=50)\n",
    "\n",
    "\n",
    "best_score = min(lgb_cv['multi_logloss-mean'])\n",
    "best_iteration = len(lgb_cv['multi_logloss-mean'])\n",
    "print ('Best iteration: %d, best score: %f' % (best_iteration, best_score))"
   ]
  },
  {
   "cell_type": "markdown",
   "metadata": {},
   "source": [
    "For your reference, we can use the following snippet to fine tune the optimal number clusters\n",
    "\n",
    "```python\n",
    "\n",
    "scores = []\n",
    "for park_n_clusters in (10, 15, 20, 25, 30):\n",
    "    kms = KMeans(n_clusters=park_n_clusters)\n",
    "    kms.fit(park_listings)\n",
    "\n",
    "    park_dist_data = pd.DataFrame(kms.transform(full_data[['latitude', 'longitude']]),\n",
    "                                  columns=['dist_to_park_' +\n",
    "                                      str(i) for i in range(park_n_clusters)]\n",
    "                                 )\n",
    "\n",
    "    full_num_vars = num_vars + date_num_vars + additional_num_vars + \\\n",
    "        interactive_num_vars + listing_vars + listing_quality_vars + magic_vars + \\\n",
    "        num_cat_vars + mean_coded_vars + distance_vars\n",
    "    full_cat_vars = LE_vars\n",
    "    full_vars = full_num_vars + full_cat_vars\n",
    "    train_x = sparse.hstack([full_data[full_vars],\n",
    "                             feature_sparse,\n",
    "                             desc_sparse,\n",
    "                             st_addr_sparse,\n",
    "                             mgr_aggr,\n",
    "                            park_dist_data]).tocsr()[:train_size]\n",
    "    train_y = full_data['target'][:train_size].values\n",
    "    test_x = sparse.hstack([full_data[full_vars],\n",
    "                            feature_sparse,\n",
    "                            desc_sparse,\n",
    "                            st_addr_sparse,\n",
    "                            mgr_aggr,\n",
    "                            park_dist_data]).tocsr()[train_size:]\n",
    "    test_y = full_data['target'][train_size:].values\n",
    "\n",
    "    full_vars = full_vars + feature_vars + desc_vars + st_addr_vars\n",
    "    print(\"training data size: \", train_x.shape,\n",
    "          \"testing data size: \", test_x.shape)\n",
    "\n",
    "    lgb_params = dict()\n",
    "    lgb_params['objective'] = 'multiclass'\n",
    "    lgb_params['num_class'] = 3\n",
    "    lgb_params['learning_rate'] = 0.05\n",
    "    lgb_params['num_leaves'] = 63\n",
    "    lgb_params['max_depth'] = 15\n",
    "    lgb_params['min_gain_to_split '] = 1\n",
    "    lgb_params['subsample'] = 0.7\n",
    "    lgb_params['colsample_bytree'] = 0.7\n",
    "    lgb_params['min_sum_hessian_in_leaf'] = 0.001\n",
    "    lgb_params['seed'] = 42\n",
    "\n",
    "    lgb_cv = lgb.cv(lgb_params,\n",
    "                    lgb.Dataset(train_x,\n",
    "                                label=train_y\n",
    "                                ),\n",
    "                    num_boost_round=100000,\n",
    "                    nfold=5,\n",
    "                    stratified=True,\n",
    "                    shuffle=True,\n",
    "                    early_stopping_rounds=50,\n",
    "                    seed=42,\n",
    "                    verbose_eval=100)\n",
    "\n",
    "    best_score = min(lgb_cv['multi_logloss-mean'])\n",
    "    best_iteration = len(lgb_cv['multi_logloss-mean'])\n",
    "    print('Best iteration: %d, best score: %f' % (best_iteration, best_score))\n",
    "    scores.append([park_n_clusters, best_score])\n",
    "scores = np.array(scores)\n",
    "best_park_n_clusters = scores[:, 0][(np.argmin(scores[:, 1]))]\n",
    "print('best number of clusters: %d, best score: %f' % (best_park_n_clusters, np.min(scores[:, 1])))\n",
    "\n",
    "\n",
    "```"
   ]
  },
  {
   "cell_type": "markdown",
   "metadata": {},
   "source": [
    "### Subways"
   ]
  },
  {
   "cell_type": "code",
   "execution_count": 42,
   "metadata": {},
   "outputs": [],
   "source": [
    "subway_listings = full_data[full_data[['description', 'features']].apply(lambda x: 'subway' in x[0] or 'subway' in x[1], axis=1)][['latitude', 'longitude']]\n",
    "\n",
    "subway_n_clusters = 400\n",
    "kms = KMeans(n_clusters=subway_n_clusters)\n",
    "kms.fit(subway_listings)\n",
    "\n",
    "subway_dist_data = pd.DataFrame(kms.transform(full_data[['latitude', 'longitude']]),\n",
    "                              columns = ['dist_to_subway_' + str(i) for i in range(subway_n_clusters)]\n",
    "                             )"
   ]
  },
  {
   "cell_type": "code",
   "execution_count": 43,
   "metadata": {},
   "outputs": [
    {
     "name": "stdout",
     "output_type": "stream",
     "text": [
      "training data size:  (49352, 1078) testing data size:  (74659, 1078)\n"
     ]
    }
   ],
   "source": [
    "full_num_vars = num_vars + date_num_vars + additional_num_vars + interactive_num_vars+geo_num_vars+ geo_cat_vars + count_vars \\\n",
    "    + listing_vars + listing_quality_vars \n",
    "full_cat_vars = LE_vars + mean_coded_vars\n",
    "full_vars = full_num_vars + full_cat_vars\n",
    "train_x = sparse.hstack([full_data[full_vars],\n",
    "                         feature_sparse,\n",
    "                         desc_sparse,\n",
    "                         st_addr_sparse,\n",
    "                         mgr_aggr,\n",
    "                        building_aggr,\n",
    "                        park_dist_data,\n",
    "                        subway_dist_data]).tocsr()[:train_size]\n",
    "train_y = full_data['target'][:train_size].values\n",
    "test_x = sparse.hstack([full_data[full_vars],\n",
    "                        feature_sparse,\n",
    "                        desc_sparse,\n",
    "                        st_addr_sparse,\n",
    "                        mgr_aggr,\n",
    "                       building_aggr,\n",
    "                       park_dist_data,\n",
    "                       subway_dist_data]).tocsr()[train_size:]\n",
    "test_y = full_data['target'][train_size:].values\n",
    "\n",
    "\n",
    "full_vars = full_vars + feature_vars + desc_vars + st_addr_vars\n",
    "print(\"training data size: \", train_x.shape,\n",
    "      \"testing data size: \", test_x.shape)"
   ]
  },
  {
   "cell_type": "code",
   "execution_count": 44,
   "metadata": {},
   "outputs": [
    {
     "name": "stdout",
     "output_type": "stream",
     "text": [
      "[50]\tcv_agg's multi_logloss: 0.569265 + 0.00342119\n",
      "[100]\tcv_agg's multi_logloss: 0.539553 + 0.00422727\n",
      "[150]\tcv_agg's multi_logloss: 0.530582 + 0.00450288\n",
      "[200]\tcv_agg's multi_logloss: 0.527164 + 0.00480983\n",
      "[250]\tcv_agg's multi_logloss: 0.526031 + 0.00481716\n",
      "[300]\tcv_agg's multi_logloss: 0.525936 + 0.00473577\n",
      "Best iteration: 288, best score: 0.525873\n",
      "CPU times: user 57min 23s, sys: 7.78 s, total: 57min 31s\n",
      "Wall time: 14min 39s\n"
     ]
    }
   ],
   "source": [
    "%%time\n",
    "lgb_params = dict()\n",
    "lgb_params['objective'] = 'multiclass'\n",
    "lgb_params['num_class'] = 3\n",
    "lgb_params['learning_rate'] = 0.05\n",
    "lgb_params['num_leaves'] = 63\n",
    "lgb_params['max_depth'] = 15\n",
    "lgb_params['min_gain_to_split '] = 1\n",
    "lgb_params['subsample'] = 0.7\n",
    "lgb_params['colsample_bytree'] = 0.7\n",
    "lgb_params['min_sum_hessian_in_leaf'] = 0.001\n",
    "lgb_params['seed']=42\n",
    "\n",
    "lgb_cv = lgb.cv(lgb_params,\n",
    "                lgb.Dataset(train_x,\n",
    "                            label=train_y\n",
    "                            ),\n",
    "                num_boost_round=100000,\n",
    "                nfold=5,\n",
    "                stratified=True,\n",
    "                shuffle=True,\n",
    "                early_stopping_rounds=50,\n",
    "                seed=42,\n",
    "                verbose_eval=50)\n",
    "\n",
    "\n",
    "best_score = min(lgb_cv['multi_logloss-mean'])\n",
    "best_iteration = len(lgb_cv['multi_logloss-mean'])\n",
    "print ('Best iteration: %d, best score: %f' % (best_iteration, best_score))"
   ]
  },
  {
   "cell_type": "markdown",
   "metadata": {},
   "source": [
    "## item2vec\n",
    "\n",
    "We can use the same idea for word2vec to embed any items"
   ]
  },
  {
   "cell_type": "code",
   "execution_count": 45,
   "metadata": {},
   "outputs": [],
   "source": [
    "import spacy ## Spacy is the de-facto NLP tool used by industry\n",
    "from gensim.models import FastText  \n",
    "nlp = spacy.load(\"en_core_web_sm\")\n",
    "\n",
    "## Tokenize a sentence\n",
    "def seq_to_token(seq, nlp=nlp):\n",
    "    doc = nlp(str(seq).lower())\n",
    "    tokens = [token.text for token in doc if not ( token.is_space | token.is_stop|token.like_num)]\n",
    "    return tokens\n",
    "\n",
    "## Convert tokens to vector\n",
    "def tokens_to_vec(tokens, model, vec_size=10):\n",
    "    if len(tokens)==0:\n",
    "        return np.zeors(vec_size)\n",
    "    else:\n",
    "        return np.array([emb_model[token] for token in tokens]).mean(axis=1)"
   ]
  },
  {
   "cell_type": "markdown",
   "metadata": {},
   "source": [
    "### Embed building id"
   ]
  },
  {
   "cell_type": "code",
   "execution_count": 46,
   "metadata": {},
   "outputs": [
    {
     "data": {
      "text/plain": [
       "manager_id\n",
       "0000abd7518b94c35a90d64b56fbf3e6    [d64120032c7c77ed2d3caf743b33201b, b491b11c7ea...\n",
       "001ce808ce1720e24a9510e014c69707    [0, 0, 0, 0, 0, 0, 0, 0, 0, 0, 0, 0, 0, 0, 0, ...\n",
       "003fc4e9a70053082f131b1054966aaf                                         [0, 0, 0, 0]\n",
       "00607a02f6efd9c6c7c588826e471ee9    [bbd82dada059fe400bd515589333bae9, 8e9dc82b439...\n",
       "00995ff28d79127ed2dca8320e9e7d09    [77fccbedf29d0035ea311701fd715823, ad67f6181a4...\n",
       "Name: building_id, dtype: object"
      ]
     },
     "execution_count": 46,
     "metadata": {},
     "output_type": "execute_result"
    }
   ],
   "source": [
    "## Step 1: Generate \"sentences\"\n",
    "building_by_mgr = full_data.groupby('manager_id')['building_id'].apply(list)\n",
    "building_by_mgr.head()"
   ]
  },
  {
   "cell_type": "code",
   "execution_count": 47,
   "metadata": {},
   "outputs": [
    {
     "name": "stderr",
     "output_type": "stream",
     "text": [
      "/opt/conda/lib/python3.6/site-packages/ipykernel_launcher.py:7: DeprecationWarning: Call to deprecated `__getitem__` (Method will be removed in 4.0.0, use self.wv.__getitem__() instead).\n",
      "  import sys\n"
     ]
    },
    {
     "data": {
      "text/plain": [
       "array([ 0.7843275 , -1.0873846 ,  1.5095539 , -0.11258737,  0.16320401,\n",
       "        0.32354936,  2.1196125 ,  1.2524652 ,  0.8789119 , -0.78124624],\n",
       "      dtype=float32)"
      ]
     },
     "execution_count": 47,
     "metadata": {},
     "output_type": "execute_result"
    }
   ],
   "source": [
    "## Step 2: Train a fasttext model\n",
    "building_model = FastText(size=10, window=3, min_count=1, workers=16)  # instantiate\n",
    "building_model.build_vocab(sentences=building_by_mgr)\n",
    "building_model.train(sentences=building_by_mgr.values, total_examples=len(building_by_mgr.values), epochs=5)\n",
    "\n",
    "## Take a look at the embedding for building_id 8a8b08e08888819a3e745005a8cd0408\n",
    "building_model['8a8b08e08888819a3e745005a8cd0408']"
   ]
  },
  {
   "cell_type": "code",
   "execution_count": 48,
   "metadata": {},
   "outputs": [
    {
     "name": "stderr",
     "output_type": "stream",
     "text": [
      "/opt/conda/lib/python3.6/site-packages/ipykernel_launcher.py:2: DeprecationWarning: Call to deprecated `__getitem__` (Method will be removed in 4.0.0, use self.wv.__getitem__() instead).\n",
      "  \n"
     ]
    },
    {
     "data": {
      "text/plain": [
       "array([[  0.86782306,  -1.1663593 ,   1.5430108 , ...,   1.3460227 ,\n",
       "          0.8868551 ,  -0.77050924],\n",
       "       [  0.5621958 ,  -1.432132  ,   1.7951    , ...,   1.7809668 ,\n",
       "          1.3062751 ,  -1.0434483 ],\n",
       "       [  0.5775995 ,  -1.5462695 ,   2.0648592 , ...,   1.9381046 ,\n",
       "          1.4727904 ,  -1.2262148 ],\n",
       "       ...,\n",
       "       [ 18.210459  , -16.519539  ,   4.8748493 , ...,  17.479746  ,\n",
       "         -1.0313543 ,   3.023367  ],\n",
       "       [  1.0618416 ,  -1.1884751 ,   1.8580693 , ...,   1.3193855 ,\n",
       "          0.9811291 ,  -0.9330204 ],\n",
       "       [  1.3361573 ,  -1.7097892 ,   1.9929698 , ...,   1.9206597 ,\n",
       "          1.1060035 ,  -0.9139155 ]], dtype=float32)"
      ]
     },
     "execution_count": 48,
     "metadata": {},
     "output_type": "execute_result"
    }
   ],
   "source": [
    "## Step 3: Embed building ids\n",
    "building_emb = full_data['building_id'].apply(lambda x:building_model[x]).values\n",
    "building_emb = np.array([e.reshape(1,-1) for e in building_emb]).reshape(-1,10)\n",
    "building_emb"
   ]
  },
  {
   "cell_type": "markdown",
   "metadata": {},
   "source": [
    "## Embed manager id"
   ]
  },
  {
   "cell_type": "code",
   "execution_count": 49,
   "metadata": {},
   "outputs": [
    {
     "name": "stderr",
     "output_type": "stream",
     "text": [
      "/opt/conda/lib/python3.6/site-packages/ipykernel_launcher.py:6: DeprecationWarning: Call to deprecated `__getitem__` (Method will be removed in 4.0.0, use self.wv.__getitem__() instead).\n",
      "  \n"
     ]
    },
    {
     "data": {
      "text/plain": [
       "array([[ 0.5459034 , -2.4338746 , -1.7066944 , ...,  1.869851  ,\n",
       "        -4.170246  , -0.44711676],\n",
       "       [-1.4953406 , -2.119001  , -0.2823045 , ...,  0.35475844,\n",
       "         0.11215224,  0.21007243],\n",
       "       [-3.6713762 , -2.7806685 , -0.3667828 , ...,  1.0348134 ,\n",
       "         1.0134226 ,  0.61292624],\n",
       "       ...,\n",
       "       [-1.6645426 , -2.3138847 , -1.2993264 , ...,  0.1948381 ,\n",
       "        -0.13117908,  0.1935277 ],\n",
       "       [-2.1199002 , -4.4403143 , -0.19360483, ...,  0.4009747 ,\n",
       "         0.60684615, -0.8989814 ],\n",
       "       [-1.173622  , -0.34279838,  0.13306461, ...,  0.21445557,\n",
       "         0.22133149,  1.1361825 ]], dtype=float32)"
      ]
     },
     "execution_count": 49,
     "metadata": {},
     "output_type": "execute_result"
    }
   ],
   "source": [
    "manager_by_building = full_data.groupby('building_id')['manager_id'].apply(list)  \n",
    "manager_model = FastText(size=10, window=3, min_count=1, workers=16)\n",
    "manager_model.build_vocab(sentences=manager_by_building)\n",
    "manager_model.train(sentences=manager_by_building.values, \n",
    "                    total_examples=len(manager_by_building.values), epochs=5)\n",
    "manager_emb = full_data['manager_id'].apply(lambda x:manager_model[x]).values\n",
    "manager_emb = np.array([e.reshape(1,-1) for e in manager_emb]).reshape(-1,10)\n",
    "manager_emb"
   ]
  },
  {
   "cell_type": "code",
   "execution_count": 50,
   "metadata": {},
   "outputs": [
    {
     "name": "stderr",
     "output_type": "stream",
     "text": [
      "/opt/conda/lib/python3.6/site-packages/ipykernel_launcher.py:6: DeprecationWarning: Call to deprecated `__getitem__` (Method will be removed in 4.0.0, use self.wv.__getitem__() instead).\n",
      "  \n"
     ]
    },
    {
     "data": {
      "text/plain": [
       "array([[ 0.02809998, -2.0764682 , -1.8587314 , ...,  0.74020034,\n",
       "        -4.07501   , -1.1552163 ],\n",
       "       [-1.5539856 , -2.0964093 , -0.3568625 , ...,  0.29643664,\n",
       "         0.25107074,  0.03389387],\n",
       "       [-3.6056962 , -2.7186322 , -0.22760876, ...,  0.7978077 ,\n",
       "         1.1487135 ,  0.24353907],\n",
       "       ...,\n",
       "       [-1.9285547 , -2.365765  , -1.4261793 , ...,  0.18406631,\n",
       "        -0.11812768,  0.24255364],\n",
       "       [-2.193354  , -4.4679985 , -0.34445256, ...,  0.35324544,\n",
       "         0.82622594, -0.9537938 ],\n",
       "       [-0.9998246 , -0.48436055,  0.30979523, ...,  0.22766794,\n",
       "         0.41234887,  0.91283065]], dtype=float32)"
      ]
     },
     "execution_count": 50,
     "metadata": {},
     "output_type": "execute_result"
    }
   ],
   "source": [
    "manager_by_building = full_data.groupby('building_id')['manager_id'].apply(list)  \n",
    "manager_model = FastText(size=10, window=3, min_count=1, workers=16)\n",
    "manager_model.build_vocab(sentences=manager_by_building)\n",
    "manager_model.train(sentences=manager_by_building.values, \n",
    "                    total_examples=len(manager_by_building.values), epochs=5)\n",
    "manager_emb = full_data['manager_id'].apply(lambda x:manager_model[x]).values\n",
    "manager_emb = np.array([e.reshape(1,-1) for e in manager_emb]).reshape(-1,10)\n",
    "manager_emb"
   ]
  },
  {
   "cell_type": "code",
   "execution_count": 51,
   "metadata": {},
   "outputs": [
    {
     "name": "stdout",
     "output_type": "stream",
     "text": [
      "training data size:  (49352, 1098) testing data size:  (74659, 1098)\n"
     ]
    }
   ],
   "source": [
    "full_num_vars = num_vars + date_num_vars + additional_num_vars + interactive_num_vars+geo_num_vars+ geo_cat_vars + count_vars \\\n",
    "    + listing_vars + listing_quality_vars  \n",
    "full_cat_vars = LE_vars + mean_coded_vars\n",
    "full_vars = full_num_vars + full_cat_vars\n",
    "train_x = sparse.hstack([full_data[full_vars],\n",
    "                         feature_sparse,\n",
    "                         desc_sparse,\n",
    "                         st_addr_sparse,\n",
    "                         mgr_aggr,\n",
    "                        building_aggr,\n",
    "                        park_dist_data,\n",
    "                        subway_dist_data,\n",
    "                        manager_emb,\n",
    "                        building_emb]).tocsr()[:train_size]\n",
    "train_y = full_data['target'][:train_size].values\n",
    "test_x = sparse.hstack([full_data[full_vars],\n",
    "                        feature_sparse,\n",
    "                        desc_sparse,\n",
    "                        st_addr_sparse,\n",
    "                        mgr_aggr,\n",
    "                       building_aggr,\n",
    "                       park_dist_data,\n",
    "                       subway_dist_data,\n",
    "                       manager_emb,\n",
    "                    building_emb]).tocsr()[train_size:]\n",
    "test_y = full_data['target'][train_size:].values\n",
    "\n",
    "\n",
    "\n",
    "print(\"training data size: \", train_x.shape,\n",
    "      \"testing data size: \", test_x.shape)"
   ]
  },
  {
   "cell_type": "code",
   "execution_count": 52,
   "metadata": {},
   "outputs": [
    {
     "name": "stdout",
     "output_type": "stream",
     "text": [
      "[50]\tcv_agg's multi_logloss: 0.568772 + 0.00378623\n",
      "[100]\tcv_agg's multi_logloss: 0.538713 + 0.00493945\n",
      "[150]\tcv_agg's multi_logloss: 0.53024 + 0.0056358\n",
      "[200]\tcv_agg's multi_logloss: 0.526608 + 0.00564483\n",
      "[250]\tcv_agg's multi_logloss: 0.525218 + 0.00563892\n",
      "[300]\tcv_agg's multi_logloss: 0.525288 + 0.00579725\n",
      "Best iteration: 260, best score: 0.525112\n",
      "CPU times: user 35min 37s, sys: 4.93 s, total: 35min 42s\n",
      "Wall time: 17min 52s\n"
     ]
    }
   ],
   "source": [
    "%%time\n",
    "lgb_params = dict()\n",
    "lgb_params['objective'] = 'multiclass'\n",
    "lgb_params['num_class'] = 3\n",
    "lgb_params['learning_rate'] = 0.05\n",
    "lgb_params['num_leaves'] = 63\n",
    "lgb_params['max_depth'] = 15\n",
    "lgb_params['min_gain_to_split '] = 1\n",
    "lgb_params['subsample'] = 0.7\n",
    "lgb_params['colsample_bytree'] = 0.7\n",
    "lgb_params['min_sum_hessian_in_leaf'] = 0.001\n",
    "lgb_params['seed']=42\n",
    "\n",
    "lgb_cv = lgb.cv(lgb_params,\n",
    "                lgb.Dataset(train_x,\n",
    "                            label=train_y\n",
    "                            ),\n",
    "                num_boost_round=100000,\n",
    "                nfold=5,\n",
    "                stratified=True,\n",
    "                shuffle=True,\n",
    "                early_stopping_rounds=50,\n",
    "                seed=42,\n",
    "                verbose_eval=50)\n",
    "\n",
    "\n",
    "best_score = min(lgb_cv['multi_logloss-mean'])\n",
    "best_iteration = len(lgb_cv['multi_logloss-mean'])\n",
    "print ('Best iteration: %d, best score: %f' % (best_iteration, best_score))"
   ]
  },
  {
   "cell_type": "markdown",
   "metadata": {},
   "source": [
    "## The magic feature\n",
    "\n",
    "Firstly mentioned by Grand Master Silogram\n",
    "https://www.kaggle.com/c/two-sigma-connect-rental-listing-inquiries/discussion/31765\n",
    "\n",
    "Discovered and made available to public by another Grand Master KazAnova\n",
    "https://www.kaggle.com/c/two-sigma-connect-rental-listing-inquiries/discussion/31870\n",
    "\n",
    "It may contain the information when the listing was actually created."
   ]
  },
  {
   "cell_type": "code",
   "execution_count": 53,
   "metadata": {},
   "outputs": [],
   "source": [
    "image_date = pd.read_csv(\"../input/twosigma-magic-feature/listing_image_time.csv\")\n",
    "\n",
    "image_date.columns = [\"listing_id\", \"image_time_stamp\"]\n",
    "full_data = pd.merge(full_data, image_date, on=\"listing_id\", how=\"left\")\n",
    "magic_vars = ['image_time_stamp']"
   ]
  },
  {
   "cell_type": "code",
   "execution_count": 54,
   "metadata": {},
   "outputs": [
    {
     "name": "stdout",
     "output_type": "stream",
     "text": [
      "training data size:  (49352, 1101) testing data size:  (74659, 1101)\n"
     ]
    }
   ],
   "source": [
    "full_num_vars = num_vars + date_num_vars + additional_num_vars + interactive_num_vars+geo_num_vars+ geo_cat_vars + count_vars \\\n",
    "    + listing_vars + listing_quality_vars + magic_vars + price_vars\n",
    "full_cat_vars = LE_vars + mean_coded_vars\n",
    "full_vars = full_num_vars + full_cat_vars\n",
    "train_x = sparse.hstack([full_data[full_vars],\n",
    "                         feature_sparse,\n",
    "                         desc_sparse,\n",
    "                         st_addr_sparse,\n",
    "                         mgr_aggr,\n",
    "                        building_aggr,\n",
    "                        park_dist_data,\n",
    "                        subway_dist_data,\n",
    "                        manager_emb,\n",
    "                        building_emb]).tocsr()[:train_size]\n",
    "train_y = full_data['target'][:train_size].values\n",
    "test_x = sparse.hstack([full_data[full_vars],\n",
    "                        feature_sparse,\n",
    "                        desc_sparse,\n",
    "                        st_addr_sparse,\n",
    "                        mgr_aggr,\n",
    "                       building_aggr,\n",
    "                       park_dist_data,\n",
    "                       subway_dist_data,\n",
    "                       manager_emb,\n",
    "                    building_emb]).tocsr()[train_size:]\n",
    "test_y = full_data['target'][train_size:].values\n",
    "\n",
    "\n",
    "\n",
    "print(\"training data size: \", train_x.shape,\n",
    "      \"testing data size: \", test_x.shape)"
   ]
  },
  {
   "cell_type": "code",
   "execution_count": 55,
   "metadata": {
    "scrolled": true
   },
   "outputs": [
    {
     "name": "stdout",
     "output_type": "stream",
     "text": [
      "[50]\tcv_agg's multi_logloss: 0.558739 + 0.00365682\n",
      "[100]\tcv_agg's multi_logloss: 0.526644 + 0.00504349\n",
      "[150]\tcv_agg's multi_logloss: 0.517466 + 0.00515362\n",
      "[200]\tcv_agg's multi_logloss: 0.513826 + 0.00522849\n",
      "[250]\tcv_agg's multi_logloss: 0.512581 + 0.00527144\n",
      "[300]\tcv_agg's multi_logloss: 0.512623 + 0.00508304\n",
      "Best iteration: 272, best score: 0.512414\n",
      "CPU times: user 37min 31s, sys: 5.08 s, total: 37min 36s\n",
      "Wall time: 18min 49s\n"
     ]
    }
   ],
   "source": [
    "%%time\n",
    "lgb_params = dict()\n",
    "lgb_params['objective'] = 'multiclass'\n",
    "lgb_params['num_class'] = 3\n",
    "lgb_params['learning_rate'] = 0.05\n",
    "lgb_params['num_leaves'] = 63\n",
    "lgb_params['max_depth'] = 15\n",
    "lgb_params['min_gain_to_split '] = 1\n",
    "lgb_params['subsample'] = 0.7\n",
    "lgb_params['colsample_bytree'] = 0.7\n",
    "lgb_params['min_sum_hessian_in_leaf'] = 0.001\n",
    "lgb_params['seed']=42\n",
    "\n",
    "lgb_cv = lgb.cv(lgb_params,\n",
    "                lgb.Dataset(train_x,\n",
    "                            label=train_y\n",
    "                            ),\n",
    "                num_boost_round=100000,\n",
    "                nfold=5,\n",
    "                stratified=True,\n",
    "                shuffle=True,\n",
    "                early_stopping_rounds=50,\n",
    "                seed=42,\n",
    "                verbose_eval=50)\n",
    "\n",
    "\n",
    "best_score = min(lgb_cv['multi_logloss-mean'])\n",
    "best_iteration = len(lgb_cv['multi_logloss-mean'])\n",
    "print ('Best iteration: %d, best score: %f' % (best_iteration, best_score))"
   ]
  },
  {
   "cell_type": "markdown",
   "metadata": {},
   "source": [
    "## Text embedding (optional)\n",
    "\n",
    "The pretrained FastText embedding can be downloaded and installed using the following commands:\n",
    "\n",
    "```shell\n",
    "!wget https://dl.fbaipublicfiles.com/fasttext/vectors-english/crawl-300d-2M.vec.zip\n",
    "!python -m spacy init-model en ../embedding/crawl-300d-2M --vectors-loc ../embedding/crawl-300d-2M.vec.zip\n",
    "```\n",
    "\n",
    "Then in Python:\n",
    "\n",
    "```Python\n",
    "import spacy  \n",
    "nlp_fasttext = spacy.load(\"../embedding/crawl-300d-2M\")\n",
    "# nlp_glove = spacy.load(\"en_core_web_lg\")\n",
    "def seq_to_vec(seq, nlp, dim=300):\n",
    "    doc = nlp(str(seq))\n",
    "    vec = np.array(\n",
    "        [\n",
    "            token.vector\n",
    "            for token in doc\n",
    "            if not ( token.is_space | token.is_oov)\n",
    "        ]\n",
    "    ).mean(axis=0)\n",
    "    if isinstance(vec, np.ndarray):\n",
    "        return vec\n",
    "    else:\n",
    "        return np.zeros((dim))\n",
    "desc_emb = np.array([v for v in full_data[\"description\"].fillna('').apply(lambda x:seq_to_vec(x, nlp_fasttext)).values])\n",
    "```"
   ]
  }
 ],
 "metadata": {
  "anaconda-cloud": {},
  "kernelspec": {
   "display_name": "Python 3",
   "language": "python",
   "name": "python3"
  },
  "language_info": {
   "codemirror_mode": {
    "name": "ipython",
    "version": 3
   },
   "file_extension": ".py",
   "mimetype": "text/x-python",
   "name": "python",
   "nbconvert_exporter": "python",
   "pygments_lexer": "ipython3",
   "version": "3.6.6"
  },
  "toc": {
   "base_numbering": 1,
   "nav_menu": {},
   "number_sections": true,
   "sideBar": true,
   "skip_h1_title": false,
   "title_cell": "Table of Contents",
   "title_sidebar": "Contents",
   "toc_cell": false,
   "toc_position": {
    "height": "calc(100% - 180px)",
    "left": "10px",
    "top": "150px",
    "width": "512px"
   },
   "toc_section_display": true,
   "toc_window_display": true
  },
  "varInspector": {
   "cols": {
    "lenName": 16,
    "lenType": 16,
    "lenVar": 40
   },
   "kernels_config": {
    "python": {
     "delete_cmd_postfix": "",
     "delete_cmd_prefix": "del ",
     "library": "var_list.py",
     "varRefreshCmd": "print(var_dic_list())"
    },
    "r": {
     "delete_cmd_postfix": ") ",
     "delete_cmd_prefix": "rm(",
     "library": "var_list.r",
     "varRefreshCmd": "cat(var_dic_list()) "
    }
   },
   "types_to_exclude": [
    "module",
    "function",
    "builtin_function_or_method",
    "instance",
    "_Feature"
   ],
   "window_display": false
  }
 },
 "nbformat": 4,
 "nbformat_minor": 1
}
