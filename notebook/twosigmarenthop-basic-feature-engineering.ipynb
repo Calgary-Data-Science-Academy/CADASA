{
 "cells": [
  {
   "cell_type": "markdown",
   "metadata": {},
   "source": [
    "# Two Sigma Connect: Rental Listing Inquiries    "
   ]
  },
  {
   "cell_type": "code",
   "execution_count": 1,
   "metadata": {},
   "outputs": [],
   "source": [
    "import numpy as np\n",
    "from scipy import sparse\n",
    "import pandas as pd\n",
    "import xgboost as xgb\n",
    "import re\n",
    "import string\n",
    "import time\n",
    "import seaborn as sns\n",
    "import itertools\n",
    "\n",
    "from sklearn import preprocessing, pipeline, metrics, model_selection\n",
    "from sklearn.feature_extraction.text import TfidfVectorizer, CountVectorizer\n",
    "\n",
    "import matplotlib.pyplot as plt\n",
    "\n",
    "%matplotlib inline \n"
   ]
  },
  {
   "cell_type": "markdown",
   "metadata": {},
   "source": [
    "# Get started\n",
    "\n",
    "## Load data"
   ]
  },
  {
   "cell_type": "code",
   "execution_count": 2,
   "metadata": {},
   "outputs": [],
   "source": [
    "train_data = pd.read_json('/kaggle/input/two-sigma-connect-rental-listing-inquiries/train.json.zip', convert_dates=['created'])\n",
    "test_data = pd.read_json('/kaggle/input/two-sigma-connect-rental-listing-inquiries/test.json.zip', convert_dates=['created'])"
   ]
  },
  {
   "cell_type": "code",
   "execution_count": 3,
   "metadata": {},
   "outputs": [],
   "source": [
    "train_size = train_data.shape[0]"
   ]
  },
  {
   "cell_type": "markdown",
   "metadata": {},
   "source": [
    "## Create target variables\n",
    "\n",
    "We need to convert the raw target variable into numeric"
   ]
  },
  {
   "cell_type": "code",
   "execution_count": 4,
   "metadata": {},
   "outputs": [],
   "source": [
    "train_data['target'] = train_data['interest_level'].apply(lambda x: 0 if x=='low' else 1 if x=='medium' else 2)\n",
    "train_data['low'] = train_data['interest_level'].apply(lambda x: 1 if x=='low' else 0)\n",
    "train_data['medium'] = train_data['interest_level'].apply(lambda x: 1 if x=='medium' else 0)\n",
    "train_data['high'] = train_data['interest_level'].apply(lambda x: 1 if x=='high' else 0)"
   ]
  },
  {
   "cell_type": "markdown",
   "metadata": {},
   "source": [
    "## Merge training and testing data\n",
    "So we don't have to perform transformations twice"
   ]
  },
  {
   "cell_type": "code",
   "execution_count": 5,
   "metadata": {},
   "outputs": [
    {
     "name": "stderr",
     "output_type": "stream",
     "text": [
      "/opt/conda/lib/python3.6/site-packages/ipykernel_launcher.py:1: FutureWarning: Sorting because non-concatenation axis is not aligned. A future version\n",
      "of pandas will change to not sort by default.\n",
      "\n",
      "To accept the future behavior, pass 'sort=False'.\n",
      "\n",
      "To retain the current behavior and silence the warning, pass 'sort=True'.\n",
      "\n",
      "  \"\"\"Entry point for launching an IPython kernel.\n"
     ]
    }
   ],
   "source": [
    "full_data=pd.concat([train_data,test_data])"
   ]
  },
  {
   "cell_type": "markdown",
   "metadata": {},
   "source": [
    "## Group variables"
   ]
  },
  {
   "cell_type": "code",
   "execution_count": 6,
   "metadata": {},
   "outputs": [],
   "source": [
    "num_vars = ['bathrooms','bedrooms','latitude','longitude','price']\n",
    "cat_vars = ['building_id','manager_id','display_address','street_address']\n",
    "text_vars = ['description','features']\n",
    "date_var = 'created'\n",
    "image_var = 'photos'\n",
    "id_var = 'listing_id'"
   ]
  },
  {
   "cell_type": "markdown",
   "metadata": {},
   "source": [
    "## Date/time features"
   ]
  },
  {
   "cell_type": "code",
   "execution_count": 7,
   "metadata": {},
   "outputs": [],
   "source": [
    "full_data['created_datetime'] = pd.to_datetime(full_data['created'], format=\"%Y-%m-%d %H:%M:%S\")\n",
    "full_data['created_year']=full_data['created_datetime'].apply(lambda x:x.year) ## low variant\n",
    "full_data['created_datetime'] = pd.to_datetime(full_data['created'], format=\"%Y-%m-%d %H:%M:%S\")\n",
    "full_data['created_month']=full_data['created_datetime'].apply(lambda x:x.month)\n",
    "full_data['created_day']=full_data['created_datetime'].apply(lambda x:x.day)\n",
    "full_data['created_dayofweek']=full_data['created_datetime'].apply(lambda x:x.dayofweek)\n",
    "full_data['created_dayofyear']=full_data['created_datetime'].apply(lambda x:x.dayofyear)\n",
    "full_data['created_weekofyear']=full_data['created_datetime'].apply(lambda x:x.weekofyear)\n",
    "full_data['created_hour']=full_data['created_datetime'].apply(lambda x:x.hour)\n",
    "full_data['created_epoch']=full_data['created_datetime'].apply(lambda x:x.value//10**9)\n",
    "\n",
    "date_num_vars = ['created_month','created_dayofweek','created_dayofyear'\n",
    "                 ,'created_weekofyear','created_hour','created_epoch']"
   ]
  },
  {
   "cell_type": "markdown",
   "metadata": {},
   "source": [
    "## Geolocation features"
   ]
  },
  {
   "cell_type": "code",
   "execution_count": 8,
   "metadata": {},
   "outputs": [],
   "source": [
    "full_data[\"geo_area_50\"] = \\\n",
    "    full_data[['latitude', 'longitude']]\\\n",
    "    .apply(lambda x:(int(x[0]*50)%50)*50+(int(-x[1]*50)%50),axis=1)                                         \n",
    "                         \n",
    "\n",
    "full_data[\"geo_area_100\"] = \\\n",
    "    full_data[['latitude', 'longitude']]\\\n",
    "    .apply(lambda x:(int(x[0]*100)%100)*100+(int(-x[1]*100)%100),axis=1)                                         \n",
    "  \n",
    "\n",
    "full_data[\"geo_area_200\"] = \\\n",
    "    full_data[['latitude', 'longitude']]\\\n",
    "    .apply(lambda x:(int(x[0]*200)%200)*200+(int(-x[1]*200)%200),axis=1)                                         \n",
    "\n",
    "import math\n",
    "\n",
    "# Financial district\n",
    "lat=40.705628\n",
    "lon=-74.010278\n",
    "full_data['distance_to_fi'] = full_data[['latitude', 'longitude']].apply(lambda x:math.sqrt((x[0]-lat)**2+(x[1]-lon)**2), axis=1)\n",
    "\n",
    "# Central park\n",
    "lat = 40.785091\n",
    "lon = -73.968285\n",
    "full_data['distance_to_cp'] = full_data[['latitude', 'longitude']].apply(lambda x:math.sqrt((x[0]-lat)**2+(x[1]-lon)**2), axis=1)\n",
    "\n",
    "\n",
    "geo_cat_vars = ['geo_area_50', 'geo_area_100', 'geo_area_200']\n",
    "\n",
    "geo_num_vars = ['distance_to_fi', 'distance_to_cp']"
   ]
  },
  {
   "cell_type": "markdown",
   "metadata": {},
   "source": [
    "## Numeric features: basic engineering"
   ]
  },
  {
   "cell_type": "code",
   "execution_count": 9,
   "metadata": {},
   "outputs": [],
   "source": [
    "full_data['rooms'] = full_data['bedrooms'] + full_data['bathrooms'] \n",
    "full_data['num_of_photos'] = full_data['photos'].apply(lambda x:len(x))\n",
    "full_data['num_of_features'] = full_data['features'].apply(lambda x:len(x))\n",
    "full_data['len_of_desc'] = full_data['description'].apply(lambda x:len(x))\n",
    "full_data['words_of_desc'] = full_data['description'].apply(lambda x:len(re.sub('['+string.punctuation+']', '', x).split()))\n",
    "\n",
    "\n",
    "full_data['nums_of_desc'] = full_data['description']\\\n",
    "        .apply(lambda x:re.sub('['+string.punctuation+']', '', x).split())\\\n",
    "        .apply(lambda x: len([s for s in x if s.isdigit()]))\n",
    "        \n",
    "full_data['has_phone'] = full_data['description'].apply(lambda x:re.sub('['+string.punctuation+']', '', x).split())\\\n",
    "        .apply(lambda x: [s for s in x if s.isdigit()])\\\n",
    "        .apply(lambda x: len([s for s in x if len(str(s))==10]))\\\n",
    "        .apply(lambda x: 1 if x>0 else 0)\n",
    "full_data['has_email'] = full_data['description'].apply(lambda x: 1 if '@renthop.com' in x else 0)\n",
    "\n",
    "full_data['building_id_is_zero'] = full_data['building_id'].apply(lambda x:1 if x=='0' else 0)\n",
    "\n",
    "additional_num_vars = ['rooms','num_of_photos','num_of_features','len_of_desc',\n",
    "                    'words_of_desc','has_phone','has_email','building_id_is_zero']"
   ]
  },
  {
   "cell_type": "markdown",
   "metadata": {},
   "source": [
    "## Numeric-Numeric interactions"
   ]
  },
  {
   "cell_type": "code",
   "execution_count": 10,
   "metadata": {},
   "outputs": [],
   "source": [
    "full_data['avg_word_len'] = full_data[['len_of_desc','words_of_desc']]\\\n",
    "                                    .apply(lambda x: x[0]/x[1] if x[1]!=0 else 0, axis=1)\n",
    "    \n",
    "full_data['price_per_room'] = full_data[['price','rooms']].apply(lambda x: x[0]/x[1] if x[1]!=0 else 0, axis=1)\n",
    "full_data['price_per_bedroom'] = full_data[['price','bedrooms']].apply(lambda x: x[0]/x[1] if x[1]!=0 else 0, axis=1)\n",
    "full_data['price_per_bathroom'] = full_data[['price','bathrooms']].apply(lambda x: x[0]/x[1] if x[1]!=0 else 0, axis=1)\n",
    "full_data['price_per_feature'] = full_data[['price','num_of_features']].apply(lambda x: x[0]/x[1] if x[1]!=0 else 0, axis=1)\n",
    "full_data['price_per_photo'] = full_data[['price','num_of_photos']].apply(lambda x: x[0]/x[1] if x[1]!=0 else 0, axis=1)\n",
    "full_data['price_per_word'] = full_data[['price','words_of_desc']].apply(lambda x: x[0]/x[1] if x[1]!=0 else 0, axis=1)\n",
    "full_data['price_by_desc_len'] = full_data[['price','len_of_desc']].apply(lambda x: x[0]/x[1] if x[1]!=0 else 0, axis=1)\n",
    "\n",
    "\n",
    "full_data['photos_per_room'] = full_data[['num_of_photos','rooms']].apply(lambda x: x[0]/x[1] if x[1]!=0 else 0, axis=1)\n",
    "full_data['photos_per_bedroom'] = full_data[['num_of_photos','bedrooms']].apply(lambda x: x[0]/x[1] if x[1]!=0 else 0, axis=1)\n",
    "full_data['photos_per_bathroom'] = full_data[['num_of_photos','bathrooms']].apply(lambda x: x[0]/x[1] if x[1]!=0 else 0, axis=1)\n",
    "\n",
    "full_data['desc_len_per_room'] = full_data[['len_of_desc','rooms']].apply(lambda x: x[0]/x[1] if x[1]!=0 else 0, axis=1)\n",
    "full_data['desc_len_per_bedroom'] = full_data[['len_of_desc','bedrooms']].apply(lambda x: x[0]/x[1] if x[1]!=0 else 0, axis=1)\n",
    "full_data['desc_len_per_bathroom'] = full_data[['len_of_desc','bathrooms']].apply(lambda x: x[0]/x[1] if x[1]!=0 else 0, axis=1)\n",
    "full_data['desc_len_per_word'] = full_data[['len_of_desc','words_of_desc']].apply(lambda x: x[0]/x[1] if x[1]!=0 else 0, axis=1)\n",
    "full_data['desc_len_per_numeric'] = full_data[['len_of_desc','nums_of_desc']].apply(lambda x: x[0]/x[1] if x[1]!=0 else 0, axis=1)\n",
    "\n",
    "full_data['features_per_room'] = full_data[['num_of_features','rooms']].apply(lambda x: x[0]/x[1] if x[1]!=0 else 0, axis=1)\n",
    "full_data['features_per_bedroom'] = full_data[['num_of_features','bedrooms']].apply(lambda x: x[0]/x[1] if x[1]!=0 else 0, axis=1)\n",
    "full_data['features_per_bathroom'] = full_data[['num_of_features','bathrooms']].apply(lambda x: x[0]/x[1] if x[1]!=0 else 0, axis=1)\n",
    "full_data['features_per_photo'] = full_data[['num_of_features','num_of_photos']].apply(lambda x: x[0]/x[1] if x[1]!=0 else 0, axis=1)\n",
    "full_data['features_per_word'] = full_data[['num_of_features','words_of_desc']].apply(lambda x: x[0]/x[1] if x[1]!=0 else 0, axis=1)\n",
    "full_data['features_by_desc_len'] = full_data[['num_of_features','len_of_desc']].apply(lambda x: x[0]/x[1] if x[1]!=0 else 0, axis=1)\n",
    "\n",
    "\n",
    "interactive_num_vars = ['avg_word_len','price_per_room','price_per_bedroom','price_per_bathroom',\n",
    "                        'price_per_feature','price_per_photo','price_per_word','price_by_desc_len',\n",
    "                        'photos_per_room','photos_per_bedroom','photos_per_bathroom',\n",
    "                        'desc_len_per_room','desc_len_per_bedroom','desc_len_per_bathroom','desc_len_per_word',\n",
    "                        'desc_len_per_numeric','features_per_room','features_per_bedroom','features_per_bathroom',\n",
    "                        'features_per_photo','features_per_word','features_by_desc_len']"
   ]
  },
  {
   "cell_type": "markdown",
   "metadata": {},
   "source": [
    "## Count features"
   ]
  },
  {
   "cell_type": "code",
   "execution_count": 11,
   "metadata": {},
   "outputs": [
    {
     "name": "stdout",
     "output_type": "stream",
     "text": [
      "CPU times: user 15.8 s, sys: 5.94 ms, total: 15.8 s\n",
      "Wall time: 15.9 s\n"
     ]
    }
   ],
   "source": [
    "%%time\n",
    "display=full_data[\"display_address\"].value_counts()\n",
    "manager_id=full_data[\"manager_id\"].value_counts()\n",
    "building_id=full_data[\"building_id\"].value_counts()\n",
    "street=full_data[\"street_address\"].value_counts()\n",
    "bedrooms=full_data[\"bedrooms\"].value_counts()\n",
    "bathrooms=full_data[\"bathrooms\"].value_counts()\n",
    "created_dayofyear=full_data[\"created_dayofyear\"].value_counts()\n",
    "created_weekofyear=full_data[\"created_weekofyear\"].value_counts()\n",
    "\n",
    "full_data[\"display_count\"]=full_data[\"display_address\"].apply(lambda x:display[x])\n",
    "full_data[\"manager_count\"]=full_data[\"manager_id\"].apply(lambda x:manager_id[x])  \n",
    "full_data[\"building_count\"]=full_data[\"building_id\"].apply(lambda x:building_id[x])\n",
    "full_data[\"street_count\"]=full_data[\"street_address\"].apply(lambda x:street[x])\n",
    "full_data[\"bedrooms_count\"]=full_data[\"bedrooms\"].apply(lambda x:bedrooms[x])\n",
    "full_data[\"bathrooms_count\"]=full_data[\"bathrooms\"].apply(lambda x:bathrooms[x])\n",
    "full_data[\"created_dayofyear_count\"]=full_data[\"created_dayofyear\"].\\\n",
    "    apply(lambda x:created_dayofyear[x])\n",
    "full_data[\"created_weekofyear_count\"]=full_data[\"created_weekofyear\"].\\\n",
    "    apply(lambda x:created_weekofyear[x])\n",
    "\n",
    "count_vars = ['manager_count', 'building_count', 'street_count', 'bedrooms_count',\n",
    "       'bathrooms_count', 'created_dayofyear_count', 'created_weekofyear_count']"
   ]
  },
  {
   "cell_type": "markdown",
   "metadata": {},
   "source": [
    "## Numeric-categorical interactions"
   ]
  },
  {
   "cell_type": "code",
   "execution_count": 12,
   "metadata": {},
   "outputs": [
    {
     "name": "stdout",
     "output_type": "stream",
     "text": [
      "['price_percentile_by_manager', 'price_percentile_by_building']\n"
     ]
    }
   ],
   "source": [
    "num_cat_vars =[]\n",
    "price_by_manager = full_data.groupby('manager_id')['price'].agg([np.min,np.max,np.median,np.mean]).reset_index()\n",
    "price_by_manager.columns = ['manager_id','min_price_by_manager',\n",
    "                            'max_price_by_manager','median_price_by_manager','mean_price_by_manager']\n",
    "full_data = pd.merge(full_data,price_by_manager, how='left',on='manager_id')\n",
    "\n",
    "price_by_building = full_data.groupby('building_id')['price'].agg([np.min,np.max,np.median,np.mean]).reset_index()\n",
    "price_by_building.columns = ['building_id','min_price_by_building',\n",
    "                            'max_price_by_building','median_price_by_building','mean_price_by_building']\n",
    "full_data = pd.merge(full_data,price_by_building, how='left',on='building_id')\n",
    "\n",
    "\n",
    "full_data['price_percentile_by_manager']=\\\n",
    "            full_data[['price','min_price_by_manager','max_price_by_manager']]\\\n",
    "            .apply(lambda x:(x[0]-x[1])/(x[2]-x[1]) if (x[2]-x[1])!=0 else 0.5,\n",
    "                  axis=1)\n",
    "full_data['price_percentile_by_building']=\\\n",
    "            full_data[['price','min_price_by_building','max_price_by_building']]\\\n",
    "            .apply(lambda x:(x[0]-x[1])/(x[2]-x[1]) if (x[2]-x[1])!=0 else 0.5,\n",
    "                  axis=1)\n",
    "\n",
    "\n",
    "num_cat_vars.append('price_percentile_by_manager')\n",
    "num_cat_vars.append('price_percentile_by_building')\n",
    "\n",
    "print (num_cat_vars)"
   ]
  },
  {
   "cell_type": "markdown",
   "metadata": {},
   "source": [
    "## Two-way categorical features interactions"
   ]
  },
  {
   "cell_type": "code",
   "execution_count": 13,
   "metadata": {},
   "outputs": [
    {
     "data": {
      "text/plain": [
       "['building_id',\n",
       " 'manager_id',\n",
       " 'display_address',\n",
       " 'street_address',\n",
       " 'building_id-manager_id',\n",
       " 'building_id-display_address',\n",
       " 'building_id-street_address',\n",
       " 'manager_id-display_address',\n",
       " 'manager_id-street_address',\n",
       " 'display_address-street_address']"
      ]
     },
     "execution_count": 13,
     "metadata": {},
     "output_type": "execute_result"
    }
   ],
   "source": [
    "for comb in itertools.combinations(cat_vars, 2):\n",
    "    comb_var_name = comb[0] +'-'+ comb[1]\n",
    "    full_data [comb_var_name] = full_data [ comb[0]].astype(str) +'_' + full_data [ comb[1]].astype(str)\n",
    "    cat_vars.append(comb_var_name)\n",
    "\n",
    "cat_vars    "
   ]
  },
  {
   "cell_type": "markdown",
   "metadata": {},
   "source": [
    "## Text features\n",
    "\n",
    "* Here we are using CountVectorizer but you are encouraged to give TfidfVectorizer a try.\n",
    "\n",
    "* The parameter of max_features to be tuned\n",
    "\n",
    "* The outputs are sparse matrices which can be merged with numpy arrays using scipy.stats.sparse.hstack function\n"
   ]
  },
  {
   "cell_type": "code",
   "execution_count": 14,
   "metadata": {},
   "outputs": [],
   "source": [
    "full_data[\"features\"].apply(lambda x: \" \".join([\"_\".join(i.split(\" \")) for i in x]))\n",
    "cntvec = CountVectorizer(stop_words='english', max_features=200)\n",
    "feature_sparse =cntvec.fit_transform(full_data[\"features\"]\\\n",
    "                                     .apply(lambda x: \" \".join([\"_\".join(i.split(\" \")) for i in x])))\n",
    "\n",
    "feature_vars = ['feature_' + v for v in cntvec.vocabulary_]\n",
    "\n",
    "cntvec = CountVectorizer(stop_words='english', max_features=100)\n",
    "desc_sparse = cntvec.fit_transform(full_data[\"description\"])\n",
    "desc_vars = ['desc_' + v for v in cntvec.vocabulary_]\n",
    "\n",
    "\n",
    "cntvec = CountVectorizer(stop_words='english', max_features=10)\n",
    "st_addr_sparse = cntvec.fit_transform(full_data[\"street_address\"])\n",
    "st_addr_vars = ['desc_' + v for v in cntvec.vocabulary_]"
   ]
  },
  {
   "cell_type": "markdown",
   "metadata": {},
   "source": [
    "## Categorical features - label encoding"
   ]
  },
  {
   "cell_type": "code",
   "execution_count": 15,
   "metadata": {},
   "outputs": [
    {
     "name": "stdout",
     "output_type": "stream",
     "text": [
      "Label Encoding building_id\n",
      "Label Encoding manager_id\n",
      "Label Encoding display_address\n",
      "Label Encoding street_address\n",
      "Label Encoding building_id-manager_id\n",
      "Label Encoding building_id-display_address\n",
      "Label Encoding building_id-street_address\n",
      "Label Encoding manager_id-display_address\n",
      "Label Encoding manager_id-street_address\n",
      "Label Encoding display_address-street_address\n",
      "Label-encoded feaures: ['building_id_le', 'manager_id_le', 'display_address_le', 'street_address_le', 'building_id-manager_id_le', 'building_id-display_address_le', 'building_id-street_address_le', 'manager_id-display_address_le', 'manager_id-street_address_le', 'display_address-street_address_le']\n"
     ]
    }
   ],
   "source": [
    "LBL = preprocessing.LabelEncoder()\n",
    "\n",
    "LE_vars=[]\n",
    "LE_map=dict()\n",
    "for cat_var in cat_vars:\n",
    "    print (\"Label Encoding %s\" % (cat_var))\n",
    "    LE_var=cat_var+'_le'\n",
    "    full_data[LE_var]=LBL.fit_transform(full_data[cat_var])\n",
    "    LE_vars.append(LE_var)\n",
    "    LE_map[cat_var]=LBL.classes_\n",
    "    \n",
    "print (\"Label-encoded feaures: %s\" % (LE_vars))"
   ]
  },
  {
   "cell_type": "markdown",
   "metadata": {},
   "source": [
    "## Categorical features - one hot encoding\n",
    "\n",
    "The output is a sparse matrix"
   ]
  },
  {
   "cell_type": "code",
   "execution_count": 16,
   "metadata": {},
   "outputs": [
    {
     "name": "stderr",
     "output_type": "stream",
     "text": [
      "/opt/conda/lib/python3.6/site-packages/sklearn/preprocessing/_encoders.py:415: FutureWarning: The handling of integer data will change in version 0.22. Currently, the categories are determined based on the range [0, max(values)], while in the future they will be determined based on the unique values.\n",
      "If you want the future behaviour and silence this warning, you can specify \"categories='auto'\".\n",
      "In case you used a LabelEncoder before this OneHotEncoder to convert the categories to integers, then you can now use the OneHotEncoder directly.\n",
      "  warnings.warn(msg, FutureWarning)\n"
     ]
    },
    {
     "name": "stdout",
     "output_type": "stream",
     "text": [
      "One-hot-encoding finished in 0.867911 seconds\n",
      "OHE_sparse size : (124011, 340241)\n",
      "One-hot encoded catgorical feature samples : ['building_0', 'building_00005cb939f9986300d987652c933e15', 'building_00024d77a43f0606f926e2312513845c', 'building_000ae4b7db298401cdae2b0ba1ea8146', 'building_0012f1955391bca600ec301035b97b65', 'building_0021440c04241281a436ec21accc40b1', 'building_002d1eba40aa0a6610e04ff20543585f', 'building_003d8740e21484dcc2280639b25539a4', 'building_00480e54b53fe77d17964be3f8307a99', 'building_00553d95d22484bcc36831c9248d1dbc', 'building_0055c8662ba19e95f78df97592d2b83e', 'building_0056dbdf2881b76f2a0171eb753ec9e0', 'building_0059ae562b9e338a59eaf962cb3eedd2', 'building_005e0f8d7fb7b92be351cbf1dd985149', 'building_0067f166111490e7af7f1a878a67bb5e', 'building_0070bc94a3f80aa717bb15708e98ba54', 'building_0071cda335745940cdae1dc31abfc701', 'building_0078281cd69f4bfec17e42e5cf5eecd9', 'building_0078c2ab46afba9969637ac83621901e', 'building_007ae1cd90420f18bad7b6892a9a1411', 'building_007cd8edc45c6cfbcabd88f70d59a513', 'building_008d3e3a11295305966844713b685f7d', 'building_008ff72d77a8fc85eccfc4ec33ec09a3', 'building_0095cb49c423ec7b204e26d76c56bd35', 'building_009c6ad006e8fd679991c5f8cffaef9f', 'building_009f494b0636f32b96b41926ec7c4bf2', 'building_00a4e18de6c9a7bbec33c77e0588a3b9', 'building_00a61b88186b5115356374b0f5dd0d1e', 'building_00a7b4a6aec7ca1a1635c622918b68f0', 'building_00a94a38fcda000b4448370839a25ac8', 'building_00b2da856a75f0f5690996b0a0b1f397', 'building_00bafd8e05682a7c7e36b4046acd0f1b', 'building_00bb734cde488aa3e1f3e5f1376b9c13', 'building_00cca782a37fc2bb91b080ede56fa7cf', 'building_00ce59a4de554163bda36549de6bf967', 'building_00d1b109f921cd8bc69a203bf35a9bac', 'building_00dfd2bccb9127f2e7966ff29ae1e060', 'building_00e3e6bb0d19bb601842c0ab9589f9a2', 'building_00e8bbc4c74980a06c187165d9a5869e', 'building_00e980b7c97376eb19e0b1be650ccb64', 'building_00ecc203c49a4651cf186de65f308ac1', 'building_00fdda7f129d05ab200c31c0c6de8dfd', 'building_00ffdfd150acc0b097182bbf9dd1db28', 'building_0103d0d57f197a73cdfd0f2f26870d74', 'building_010435ab3b0b415421d583937a55283e', 'building_0106f282d2dfe616303b86e5b68df6b4', 'building_010f3d0141cd76667ca8e3d86e221cf2', 'building_0114c80bf2a9027612083e354d7fbdbc', 'building_0117976b081298aea99e21c327ab25a4', 'building_011a3c781df937c2991a3832b547b158', 'building_01298c8fd1e6e332fb4c188a7183a206', 'building_012fcf2833e0e07897b682ab6f82be3b', 'building_013a96b772f0e46731faee50ad25d727', 'building_01401bc9a8908b2d6ffa84ebf9e1b984', 'building_0145e758b990b8d2648ee57c30762d76', 'building_0152c6255a4e29051b817ce6f3f6dd6f', 'building_0155fa9629c4d68dbe9106b9ac3866ad', 'building_015901f6966b695aec0bda32e36423d6', 'building_015bf4a41140bb7304d338437192f2ab', 'building_015cf622b143eb8703307cf591e9dd46', 'building_01601e509316d5e48176d0f034e04f9f', 'building_016124e48651db465762bfbaf7a9080b', 'building_0162edae269da1472fcbdf4f61df7c7a', 'building_0165775b1775642fb0f71595e83484ba', 'building_0166aa8add8bdc29ca360ab1db5c77f9', 'building_016e30568187a4bd83bf86ca02837544', 'building_017c4715165fe36e5a4372ebf15207f1', 'building_017c9eb62166b050a144adad22b91c00', 'building_017e4ac152c10d537fb2acb3743f2162', 'building_018023115a3d3d3273b25a3357e5358a', 'building_0180389cfd65c7037149466dc934afd3', 'building_01813414c43aedaf8f1b1fb74cef3f99', 'building_018b0a85428622d9a6447fd475cf8bff', 'building_018cd3169a68bd83a92c341d8349b77d', 'building_01904e878eec9c80a40d70f6495454c2', 'building_0195041256b2514a6047a340b0561c3e', 'building_019adbb79eb99ed4c4b9dea91571aa91', 'building_019ce6c2904c70141b3c6fd6d7557344', 'building_019e909a65d7d2e3bf22c6334bf15a7e', 'building_01a430b383a468bcfb6a6dec9f6d42cd', 'building_01a8c78a8ec0234b5e9bd8645fb2ce43', 'building_01acba2c701ccf3528ddf17f1006f694', 'building_01ae28a1834d9bb940cfa2daa78b59c6', 'building_01bb059f7b7619ed7a5f74a97b9ce2ed', 'building_01bd855b1c9b786e37c13c25e5a81fda', 'building_01bfd6631a820706cb16bae93585d998', 'building_01cb79b2d06a9844231c42b3f05eb0c2', 'building_01cb7ce5bc25ca98fcca6ed5236c3224', 'building_01cd1cd0b21bbd22da7381a248d4fdc8', 'building_01cefee671bc17927058c0c579d459cb', 'building_01d767115586534b39d5224710dc56a4', 'building_01d79491cfd8271eaf73a5d69a759ef0', 'building_01d7a001b3a497c25c3a01955d45c339', 'building_01db3503f72909222100231ff6905a78', 'building_01df496b33f2402c5c18076b5f45c916', 'building_01e23bdc82cbdb20a15d290c02572a5d', 'building_01ee5fb703946538f9a34e22f48939e9', 'building_01f27b3de1bf1ee3218e88e64c3315a0', 'building_01f582fe206ca52144a3ac43c14653f7', 'building_01f85713461b5be6a172f4c3db190668']\n"
     ]
    }
   ],
   "source": [
    "OHE = preprocessing.OneHotEncoder(sparse=True)\n",
    "start=time.time()\n",
    "OHE.fit(full_data[LE_vars])\n",
    "OHE_sparse=OHE.transform(full_data[LE_vars])\n",
    "                                   \n",
    "print ('One-hot-encoding finished in %f seconds' % (time.time()-start))\n",
    "\n",
    "\n",
    "OHE_vars = [var[:-3] + '_' + str(level).replace(' ','_')\\\n",
    "                for var in cat_vars for level in LE_map[var] ]\n",
    "\n",
    "print (\"OHE_sparse size :\" ,OHE_sparse.shape)\n",
    "print (\"One-hot encoded catgorical feature samples : %s\" % (OHE_vars[:100]))"
   ]
  },
  {
   "cell_type": "markdown",
   "metadata": {},
   "source": [
    "# Modeling\n",
    "We will be traning two models using three seperate datasets:\n",
    "\n",
    "1. All numeric features + Label encoded Categorical features\n",
    "2. All numeric features + One hot encoded Categorical features"
   ]
  },
  {
   "cell_type": "markdown",
   "metadata": {},
   "source": [
    "## numerical features + label-encoded features"
   ]
  },
  {
   "cell_type": "code",
   "execution_count": 17,
   "metadata": {},
   "outputs": [
    {
     "name": "stdout",
     "output_type": "stream",
     "text": [
      "training data size:  (49352, 365) testing data size:  (74659, 365)\n",
      "Multiple eval metrics have been passed: 'test-mlogloss' will be used for early stopping.\n",
      "\n",
      "Will train until test-mlogloss hasn't improved in 50 rounds.\n",
      "[0]\ttrain-mlogloss:1.0357+0.000552323\ttest-mlogloss:1.03706+0.000517025\n",
      "[50]\ttrain-mlogloss:0.528065+0.00223326\ttest-mlogloss:0.579815+0.00492118\n",
      "[100]\ttrain-mlogloss:0.459895+0.0025035\ttest-mlogloss:0.556792+0.00652992\n",
      "[150]\ttrain-mlogloss:0.413818+0.00252414\ttest-mlogloss:0.549767+0.00701324\n",
      "[200]\ttrain-mlogloss:0.375615+0.00263409\ttest-mlogloss:0.546415+0.00749725\n",
      "[250]\ttrain-mlogloss:0.343852+0.00230468\ttest-mlogloss:0.545873+0.00781143\n",
      "[300]\ttrain-mlogloss:0.314525+0.00200818\ttest-mlogloss:0.546218+0.00841682\n",
      "Stopping. Best iteration:\n",
      "[262]\ttrain-mlogloss:0.33664+0.0023256\ttest-mlogloss:0.545635+0.00807494\n",
      "\n",
      "Best iteration: 263, best score: 0.545635\n"
     ]
    }
   ],
   "source": [
    "full_vars = num_vars + date_num_vars + interactive_num_vars+ geo_cat_vars + geo_num_vars + count_vars + LE_vars \n",
    "    \n",
    "train_x = sparse.hstack([full_data[full_vars], \n",
    "                         feature_sparse, \n",
    "                         desc_sparse, \n",
    "                         st_addr_sparse]).tocsr()[:train_size]\n",
    "train_y = full_data['target'][:train_size].values\n",
    "\n",
    "test_x = sparse.hstack([full_data[full_vars], \n",
    "                        feature_sparse, \n",
    "                        desc_sparse, \n",
    "                        st_addr_sparse]).tocsr()[train_size:]\n",
    "test_y = full_data['target'][train_size:].values\n",
    "\n",
    "\n",
    "full_vars = full_vars + feature_vars + desc_vars + st_addr_vars    \n",
    "\n",
    "print (\"training data size: \", train_x.shape,\"testing data size: \", test_x.shape)\n",
    "\n",
    "params = dict()\n",
    "params['objective'] = 'multi:softprob'\n",
    "params['num_class'] = 3\n",
    "params['eta'] = 0.1\n",
    "params['max_depth'] = 6\n",
    "params['min_child_weight'] = 1\n",
    "params['subsample'] = 0.7\n",
    "params['colsample_bytree'] = 0.7\n",
    "params['gamma'] = 1\n",
    "params['tree_method'] = 'gpu_hist' # uncomment this parameter if you are using XGBoost GPU version\n",
    "params['seed']=1234\n",
    "\n",
    "cv_results = xgb.cv(params, \n",
    "                    xgb.DMatrix(train_x, label=train_y.reshape(train_x.shape[0],1)),\n",
    "                    num_boost_round=1000000, \n",
    "                    nfold=5,\n",
    "                    metrics={'mlogloss'},\n",
    "                    seed=1234,\n",
    "                    stratified=True, #set true for classification\n",
    "                    shuffle=True,\n",
    "                    callbacks=[xgb.callback.early_stop(50)],\n",
    "                    verbose_eval=50\n",
    "                   )\n",
    "\n",
    "best_score = cv_results['test-mlogloss-mean'].min()\n",
    "best_iteration = len(cv_results)\n",
    "print ('Best iteration: %d, best score: %f' % (best_iteration, best_score))\n",
    "\n"
   ]
  },
  {
   "cell_type": "code",
   "execution_count": 18,
   "metadata": {},
   "outputs": [
    {
     "name": "stdout",
     "output_type": "stream",
     "text": [
      "Training finished in 202 seconds.\n"
     ]
    }
   ],
   "source": [
    "start = time.time()\n",
    "clf = xgb.XGBClassifier(learning_rate = 0.1\n",
    "                        , n_estimators =best_iteration\n",
    "                        , max_depth = 6\n",
    "                        , min_child_weight = 1\n",
    "                        , subsample = 0.7\n",
    "                        , colsample_bytree = 0.7\n",
    "                        , gamma = 1\n",
    "                        , seed = 1234\n",
    "                        , nthread = -1\n",
    "                       )\n",
    "\n",
    "clf.fit(train_x, train_y)\n",
    "\n",
    "print (\"Training finished in %d seconds.\" % (time.time()-start))\n",
    "\n",
    "preds = clf.predict_proba(test_x)\n",
    "sub_df = pd.DataFrame(preds,columns = [\"low\", \"medium\", \"high\"])\n",
    "sub_df[\"listing_id\"] = test_data.listing_id.values\n",
    "sub_df.to_csv(\"sub_xgb_le.csv\", index=False)"
   ]
  },
  {
   "cell_type": "markdown",
   "metadata": {},
   "source": [
    "### Feature importance"
   ]
  },
  {
   "cell_type": "markdown",
   "metadata": {},
   "source": [
    "#### Feature importance by XGBoost "
   ]
  },
  {
   "cell_type": "code",
   "execution_count": 19,
   "metadata": {},
   "outputs": [
    {
     "data": {
      "text/plain": [
       "<matplotlib.axes._subplots.AxesSubplot at 0x7f9559266780>"
      ]
     },
     "execution_count": 19,
     "metadata": {},
     "output_type": "execute_result"
    },
    {
     "data": {
      "image/png": "[encoded data removed]",
      "text/plain": [
       "<Figure size 648x864 with 1 Axes>"
      ]
     },
     "metadata": {
      "needs_background": "light"
     },
     "output_type": "display_data"
    }
   ],
   "source": [
    "fig, ax = plt.subplots(1,1,figsize=(9,12))\n",
    "clf.get_booster().feature_names=full_vars\n",
    "xgb.plot_importance(clf, max_num_features=30, ax=ax)"
   ]
  },
  {
   "cell_type": "markdown",
   "metadata": {},
   "source": [
    "# Conclusion\n",
    "\n",
    "Feature engineering is the key, if not the most important, to the success of a data science projecct including Kaggle competition. It requires a data scientist to have excellent knowledge of Machine Learning algorithms, good sense of business, programming skills and, last but not least, hacker spirits.\n",
    "\n",
    "In this week's lecture we've learnt how to:\n",
    "\n",
    "* Preprocess data for\n",
    "    * Numeric features\n",
    "    * Categorical features\n",
    "    * Date/time features\n",
    "    * Text features\n",
    "* Impute missing values\n",
    "* Analyze feature importance\n",
    "\n",
    "\n",
    "\n",
    "# Additional readings\n",
    "* [Feature Engineering and Selection: A Practical Approach for Predictive Models](http://www.feat.engineering/)\n",
    "* [Applied Predictive Modeling - Chapter 3 Data Pre-Processing](http://appliedpredictivemodeling.com/toc/)\n",
    "* [Discover Feature Engineering](http://machinelearningmastery.com/discover-feature-engineering-how-to-engineer-features-and-how-to-get-good-at-it/)\n",
    "\n"
   ]
  },
  {
   "cell_type": "code",
   "execution_count": null,
   "metadata": {},
   "outputs": [],
   "source": []
  }
 ],
 "metadata": {
  "anaconda-cloud": {},
  "kernelspec": {
   "display_name": "Python 3",
   "language": "python",
   "name": "python3"
  },
  "language_info": {
   "codemirror_mode": {
    "name": "ipython",
    "version": 3
   },
   "file_extension": ".py",
   "mimetype": "text/x-python",
   "name": "python",
   "nbconvert_exporter": "python",
   "pygments_lexer": "ipython3",
   "version": "3.6.6"
  },
  "toc": {
   "base_numbering": 1,
   "nav_menu": {},
   "number_sections": true,
   "sideBar": true,
   "skip_h1_title": false,
   "title_cell": "Table of Contents",
   "title_sidebar": "Contents",
   "toc_cell": false,
   "toc_position": {},
   "toc_section_display": true,
   "toc_window_display": true
  },
  "varInspector": {
   "cols": {
    "lenName": 16,
    "lenType": 16,
    "lenVar": 40
   },
   "kernels_config": {
    "python": {
     "delete_cmd_postfix": "",
     "delete_cmd_prefix": "del ",
     "library": "var_list.py",
     "varRefreshCmd": "print(var_dic_list())"
    },
    "r": {
     "delete_cmd_postfix": ") ",
     "delete_cmd_prefix": "rm(",
     "library": "var_list.r",
     "varRefreshCmd": "cat(var_dic_list()) "
    }
   },
   "types_to_exclude": [
    "module",
    "function",
    "builtin_function_or_method",
    "instance",
    "_Feature"
   ],
   "window_display": false
  }
 },
 "nbformat": 4,
 "nbformat_minor": 1
}
